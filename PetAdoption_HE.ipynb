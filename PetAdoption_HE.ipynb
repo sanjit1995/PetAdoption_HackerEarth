{
  "nbformat": 4,
  "nbformat_minor": 0,
  "metadata": {
    "colab": {
      "name": "PetAdoption_HE.ipynb",
      "provenance": [],
      "mount_file_id": "10015kq0Gk3BWLbid-o22pgDSNR4KYD0x",
      "authorship_tag": "ABX9TyMgLG6R8QIfSWuhwfcK4Kej"
    },
    "kernelspec": {
      "name": "python3",
      "display_name": "Python 3"
    },
    "accelerator": "GPU"
  },
  "cells": [
    {
      "cell_type": "code",
      "metadata": {
        "id": "X-s9bTWvv6Dw",
        "colab_type": "code",
        "colab": {
          "base_uri": "https://localhost:8080/",
          "height": 71
        },
        "outputId": "6cc85ab9-7b4c-4c8f-e9a3-01547b5b978f"
      },
      "source": [
        "import pandas as pd\n",
        "import numpy as np\n",
        "import seaborn as sns\n",
        "import matplotlib.pyplot as plt"
      ],
      "execution_count": null,
      "outputs": [
        {
          "output_type": "stream",
          "text": [
            "/usr/local/lib/python3.6/dist-packages/statsmodels/tools/_testing.py:19: FutureWarning: pandas.util.testing is deprecated. Use the functions in the public API at pandas.testing instead.\n",
            "  import pandas.util.testing as tm\n"
          ],
          "name": "stderr"
        }
      ]
    },
    {
      "cell_type": "code",
      "metadata": {
        "id": "OiiqR1BdwUzT",
        "colab_type": "code",
        "colab": {}
      },
      "source": [
        "train = pd.read_csv(\"/content/drive/My Drive/Colab Notebooks/data/PetAdoption_HE/train.csv\")\n",
        "test = pd.read_csv(\"/content/drive/My Drive/Colab Notebooks/data/PetAdoption_HE/test.csv\")"
      ],
      "execution_count": null,
      "outputs": []
    },
    {
      "cell_type": "code",
      "metadata": {
        "id": "-KIYhIgPwslW",
        "colab_type": "code",
        "colab": {
          "base_uri": "https://localhost:8080/",
          "height": 34
        },
        "outputId": "c320312b-1f0e-4c28-b84e-b41759b2c164"
      },
      "source": [
        "train.shape, test.shape"
      ],
      "execution_count": null,
      "outputs": [
        {
          "output_type": "execute_result",
          "data": {
            "text/plain": [
              "((18834, 11), (8072, 9))"
            ]
          },
          "metadata": {
            "tags": []
          },
          "execution_count": 3
        }
      ]
    },
    {
      "cell_type": "code",
      "metadata": {
        "id": "vrVxvKDR0XgV",
        "colab_type": "code",
        "colab": {
          "base_uri": "https://localhost:8080/",
          "height": 51
        },
        "outputId": "eb471baf-523d-4a67-b773-63d7e20a60ee"
      },
      "source": [
        "train[train.condition.isna()].breed_category.value_counts()"
      ],
      "execution_count": null,
      "outputs": [
        {
          "output_type": "execute_result",
          "data": {
            "text/plain": [
              "2.0    1477\n",
              "Name: breed_category, dtype: int64"
            ]
          },
          "metadata": {
            "tags": []
          },
          "execution_count": 5
        }
      ]
    },
    {
      "cell_type": "code",
      "metadata": {
        "id": "1EVDH3sFoiN9",
        "colab_type": "code",
        "colab": {}
      },
      "source": [
        "train[train.breed_category == 2.0]"
      ],
      "execution_count": null,
      "outputs": []
    },
    {
      "cell_type": "code",
      "metadata": {
        "id": "5Qy9twWxwvV2",
        "colab_type": "code",
        "colab": {
          "base_uri": "https://localhost:8080/",
          "height": 309
        },
        "outputId": "d3358079-e38e-486e-d22b-d617e93f5f30"
      },
      "source": [
        "train.head()"
      ],
      "execution_count": null,
      "outputs": [
        {
          "output_type": "execute_result",
          "data": {
            "text/html": [
              "<div>\n",
              "<style scoped>\n",
              "    .dataframe tbody tr th:only-of-type {\n",
              "        vertical-align: middle;\n",
              "    }\n",
              "\n",
              "    .dataframe tbody tr th {\n",
              "        vertical-align: top;\n",
              "    }\n",
              "\n",
              "    .dataframe thead th {\n",
              "        text-align: right;\n",
              "    }\n",
              "</style>\n",
              "<table border=\"1\" class=\"dataframe\">\n",
              "  <thead>\n",
              "    <tr style=\"text-align: right;\">\n",
              "      <th></th>\n",
              "      <th>pet_id</th>\n",
              "      <th>issue_date</th>\n",
              "      <th>listing_date</th>\n",
              "      <th>condition</th>\n",
              "      <th>color_type</th>\n",
              "      <th>length(m)</th>\n",
              "      <th>height(cm)</th>\n",
              "      <th>X1</th>\n",
              "      <th>X2</th>\n",
              "      <th>breed_category</th>\n",
              "      <th>pet_category</th>\n",
              "    </tr>\n",
              "  </thead>\n",
              "  <tbody>\n",
              "    <tr>\n",
              "      <th>0</th>\n",
              "      <td>ANSL_69903</td>\n",
              "      <td>2016-07-10 00:00:00</td>\n",
              "      <td>2016-09-21 16:25:00</td>\n",
              "      <td>2.0</td>\n",
              "      <td>Brown Tabby</td>\n",
              "      <td>0.80</td>\n",
              "      <td>7.78</td>\n",
              "      <td>13</td>\n",
              "      <td>9</td>\n",
              "      <td>0.0</td>\n",
              "      <td>1</td>\n",
              "    </tr>\n",
              "    <tr>\n",
              "      <th>1</th>\n",
              "      <td>ANSL_66892</td>\n",
              "      <td>2013-11-21 00:00:00</td>\n",
              "      <td>2018-12-27 17:47:00</td>\n",
              "      <td>1.0</td>\n",
              "      <td>White</td>\n",
              "      <td>0.72</td>\n",
              "      <td>14.19</td>\n",
              "      <td>13</td>\n",
              "      <td>9</td>\n",
              "      <td>0.0</td>\n",
              "      <td>2</td>\n",
              "    </tr>\n",
              "    <tr>\n",
              "      <th>2</th>\n",
              "      <td>ANSL_69750</td>\n",
              "      <td>2014-09-28 00:00:00</td>\n",
              "      <td>2016-10-19 08:24:00</td>\n",
              "      <td>NaN</td>\n",
              "      <td>Brown</td>\n",
              "      <td>0.15</td>\n",
              "      <td>40.90</td>\n",
              "      <td>15</td>\n",
              "      <td>4</td>\n",
              "      <td>2.0</td>\n",
              "      <td>4</td>\n",
              "    </tr>\n",
              "    <tr>\n",
              "      <th>3</th>\n",
              "      <td>ANSL_71623</td>\n",
              "      <td>2016-12-31 00:00:00</td>\n",
              "      <td>2019-01-25 18:30:00</td>\n",
              "      <td>1.0</td>\n",
              "      <td>White</td>\n",
              "      <td>0.62</td>\n",
              "      <td>17.82</td>\n",
              "      <td>0</td>\n",
              "      <td>1</td>\n",
              "      <td>0.0</td>\n",
              "      <td>2</td>\n",
              "    </tr>\n",
              "    <tr>\n",
              "      <th>4</th>\n",
              "      <td>ANSL_57969</td>\n",
              "      <td>2017-09-28 00:00:00</td>\n",
              "      <td>2017-11-19 09:38:00</td>\n",
              "      <td>2.0</td>\n",
              "      <td>Black</td>\n",
              "      <td>0.50</td>\n",
              "      <td>11.06</td>\n",
              "      <td>18</td>\n",
              "      <td>4</td>\n",
              "      <td>0.0</td>\n",
              "      <td>1</td>\n",
              "    </tr>\n",
              "  </tbody>\n",
              "</table>\n",
              "</div>"
            ],
            "text/plain": [
              "       pet_id           issue_date  ... breed_category  pet_category\n",
              "0  ANSL_69903  2016-07-10 00:00:00  ...            0.0             1\n",
              "1  ANSL_66892  2013-11-21 00:00:00  ...            0.0             2\n",
              "2  ANSL_69750  2014-09-28 00:00:00  ...            2.0             4\n",
              "3  ANSL_71623  2016-12-31 00:00:00  ...            0.0             2\n",
              "4  ANSL_57969  2017-09-28 00:00:00  ...            0.0             1\n",
              "\n",
              "[5 rows x 11 columns]"
            ]
          },
          "metadata": {
            "tags": []
          },
          "execution_count": 3
        }
      ]
    },
    {
      "cell_type": "code",
      "metadata": {
        "id": "E3LI6Vrdw1Yc",
        "colab_type": "code",
        "colab": {
          "base_uri": "https://localhost:8080/",
          "height": 204
        },
        "outputId": "0892949b-143e-4c29-bf6b-c1c99f67a83f"
      },
      "source": [
        "test.head()"
      ],
      "execution_count": null,
      "outputs": [
        {
          "output_type": "execute_result",
          "data": {
            "text/html": [
              "<div>\n",
              "<style scoped>\n",
              "    .dataframe tbody tr th:only-of-type {\n",
              "        vertical-align: middle;\n",
              "    }\n",
              "\n",
              "    .dataframe tbody tr th {\n",
              "        vertical-align: top;\n",
              "    }\n",
              "\n",
              "    .dataframe thead th {\n",
              "        text-align: right;\n",
              "    }\n",
              "</style>\n",
              "<table border=\"1\" class=\"dataframe\">\n",
              "  <thead>\n",
              "    <tr style=\"text-align: right;\">\n",
              "      <th></th>\n",
              "      <th>pet_id</th>\n",
              "      <th>issue_date</th>\n",
              "      <th>listing_date</th>\n",
              "      <th>condition</th>\n",
              "      <th>color_type</th>\n",
              "      <th>length(m)</th>\n",
              "      <th>height(cm)</th>\n",
              "      <th>X1</th>\n",
              "      <th>X2</th>\n",
              "    </tr>\n",
              "  </thead>\n",
              "  <tbody>\n",
              "    <tr>\n",
              "      <th>0</th>\n",
              "      <td>ANSL_75005</td>\n",
              "      <td>2005-08-17 00:00:00</td>\n",
              "      <td>2017-09-07 15:35:00</td>\n",
              "      <td>0.0</td>\n",
              "      <td>Black</td>\n",
              "      <td>0.87</td>\n",
              "      <td>42.73</td>\n",
              "      <td>0</td>\n",
              "      <td>7</td>\n",
              "    </tr>\n",
              "    <tr>\n",
              "      <th>1</th>\n",
              "      <td>ANSL_76663</td>\n",
              "      <td>2018-11-15 00:00:00</td>\n",
              "      <td>2019-05-08 17:24:00</td>\n",
              "      <td>1.0</td>\n",
              "      <td>Orange Tabby</td>\n",
              "      <td>0.06</td>\n",
              "      <td>6.71</td>\n",
              "      <td>0</td>\n",
              "      <td>1</td>\n",
              "    </tr>\n",
              "    <tr>\n",
              "      <th>2</th>\n",
              "      <td>ANSL_58259</td>\n",
              "      <td>2012-10-11 00:00:00</td>\n",
              "      <td>2018-04-02 16:51:00</td>\n",
              "      <td>1.0</td>\n",
              "      <td>Black</td>\n",
              "      <td>0.24</td>\n",
              "      <td>41.21</td>\n",
              "      <td>0</td>\n",
              "      <td>7</td>\n",
              "    </tr>\n",
              "    <tr>\n",
              "      <th>3</th>\n",
              "      <td>ANSL_67171</td>\n",
              "      <td>2015-02-13 00:00:00</td>\n",
              "      <td>2018-04-06 07:25:00</td>\n",
              "      <td>1.0</td>\n",
              "      <td>Black</td>\n",
              "      <td>0.29</td>\n",
              "      <td>8.46</td>\n",
              "      <td>7</td>\n",
              "      <td>1</td>\n",
              "    </tr>\n",
              "    <tr>\n",
              "      <th>4</th>\n",
              "      <td>ANSL_72871</td>\n",
              "      <td>2017-01-18 00:00:00</td>\n",
              "      <td>2018-04-26 13:42:00</td>\n",
              "      <td>1.0</td>\n",
              "      <td>Brown</td>\n",
              "      <td>0.71</td>\n",
              "      <td>30.92</td>\n",
              "      <td>0</td>\n",
              "      <td>7</td>\n",
              "    </tr>\n",
              "  </tbody>\n",
              "</table>\n",
              "</div>"
            ],
            "text/plain": [
              "       pet_id           issue_date         listing_date  ...  height(cm) X1  X2\n",
              "0  ANSL_75005  2005-08-17 00:00:00  2017-09-07 15:35:00  ...       42.73  0   7\n",
              "1  ANSL_76663  2018-11-15 00:00:00  2019-05-08 17:24:00  ...        6.71  0   1\n",
              "2  ANSL_58259  2012-10-11 00:00:00  2018-04-02 16:51:00  ...       41.21  0   7\n",
              "3  ANSL_67171  2015-02-13 00:00:00  2018-04-06 07:25:00  ...        8.46  7   1\n",
              "4  ANSL_72871  2017-01-18 00:00:00  2018-04-26 13:42:00  ...       30.92  0   7\n",
              "\n",
              "[5 rows x 9 columns]"
            ]
          },
          "metadata": {
            "tags": []
          },
          "execution_count": 85
        }
      ]
    },
    {
      "cell_type": "code",
      "metadata": {
        "id": "kGWVLLpSw3ES",
        "colab_type": "code",
        "colab": {
          "base_uri": "https://localhost:8080/",
          "height": 221
        },
        "outputId": "879706cd-1e3e-4f39-fc04-51d7839cc9b1"
      },
      "source": [
        "train.isnull().sum()"
      ],
      "execution_count": null,
      "outputs": [
        {
          "output_type": "execute_result",
          "data": {
            "text/plain": [
              "pet_id               0\n",
              "issue_date           0\n",
              "listing_date         0\n",
              "condition         1477\n",
              "color_type           0\n",
              "length(m)            0\n",
              "height(cm)           0\n",
              "X1                   0\n",
              "X2                   0\n",
              "breed_category       0\n",
              "pet_category         0\n",
              "dtype: int64"
            ]
          },
          "metadata": {
            "tags": []
          },
          "execution_count": 136
        }
      ]
    },
    {
      "cell_type": "code",
      "metadata": {
        "id": "ZYRdUhPYyFNe",
        "colab_type": "code",
        "colab": {
          "base_uri": "https://localhost:8080/",
          "height": 187
        },
        "outputId": "3f8631f1-ef86-4a43-f6ce-e132d4a8daf3"
      },
      "source": [
        "test.isnull().sum()"
      ],
      "execution_count": null,
      "outputs": [
        {
          "output_type": "execute_result",
          "data": {
            "text/plain": [
              "pet_id            0\n",
              "issue_date        0\n",
              "listing_date      0\n",
              "condition       619\n",
              "color_type        0\n",
              "length(m)         0\n",
              "height(cm)        0\n",
              "X1                0\n",
              "X2                0\n",
              "dtype: int64"
            ]
          },
          "metadata": {
            "tags": []
          },
          "execution_count": 137
        }
      ]
    },
    {
      "cell_type": "code",
      "metadata": {
        "id": "USyYcCxdyV9s",
        "colab_type": "code",
        "colab": {
          "base_uri": "https://localhost:8080/",
          "height": 85
        },
        "outputId": "cea67df0-4c03-4f23-e4ba-584610b0c71c"
      },
      "source": [
        "train.condition.value_counts()"
      ],
      "execution_count": null,
      "outputs": [
        {
          "output_type": "execute_result",
          "data": {
            "text/plain": [
              "1.0    6819\n",
              "0.0    6281\n",
              "2.0    4257\n",
              "Name: condition, dtype: int64"
            ]
          },
          "metadata": {
            "tags": []
          },
          "execution_count": 9
        }
      ]
    },
    {
      "cell_type": "code",
      "metadata": {
        "id": "kOIji3FEy9Hz",
        "colab_type": "code",
        "colab": {
          "base_uri": "https://localhost:8080/",
          "height": 85
        },
        "outputId": "09d746eb-2d46-417a-8d0d-b11b640fdff5"
      },
      "source": [
        "train.breed_category.value_counts()"
      ],
      "execution_count": null,
      "outputs": [
        {
          "output_type": "execute_result",
          "data": {
            "text/plain": [
              "0.0    9000\n",
              "1.0    8357\n",
              "2.0    1477\n",
              "Name: breed_category, dtype: int64"
            ]
          },
          "metadata": {
            "tags": []
          },
          "execution_count": 10
        }
      ]
    },
    {
      "cell_type": "code",
      "metadata": {
        "id": "9cJf8OvAy_5O",
        "colab_type": "code",
        "colab": {
          "base_uri": "https://localhost:8080/",
          "height": 102
        },
        "outputId": "f052af26-58f6-4ea3-c270-ada2c0050f87"
      },
      "source": [
        "train.pet_category.value_counts()"
      ],
      "execution_count": null,
      "outputs": [
        {
          "output_type": "execute_result",
          "data": {
            "text/plain": [
              "2    10621\n",
              "1     7184\n",
              "4      941\n",
              "0       88\n",
              "Name: pet_category, dtype: int64"
            ]
          },
          "metadata": {
            "tags": []
          },
          "execution_count": 11
        }
      ]
    },
    {
      "cell_type": "code",
      "metadata": {
        "id": "dLh5fEoVYMuS",
        "colab_type": "code",
        "colab": {
          "base_uri": "https://localhost:8080/",
          "height": 190
        },
        "outputId": "38117922-e085-4e1c-ee63-14cecfa0d710"
      },
      "source": [
        "pip install webcolors==1.3"
      ],
      "execution_count": null,
      "outputs": [
        {
          "output_type": "stream",
          "text": [
            "Collecting webcolors==1.3\n",
            "  Downloading https://files.pythonhosted.org/packages/b6/b5/28f04e47e0d0a75db33a09ab357ed37ed2fe8102eec3187e93e09c8ed8a3/webcolors-1.3.tar.gz\n",
            "Building wheels for collected packages: webcolors\n",
            "  Building wheel for webcolors (setup.py) ... \u001b[?25l\u001b[?25hdone\n",
            "  Created wheel for webcolors: filename=webcolors-1.3-cp36-none-any.whl size=13009 sha256=52de109076c737e35934ed8dfb49bfe9c7cd3665e37c8b4fc36a9ef6e134bfaa\n",
            "  Stored in directory: /root/.cache/pip/wheels/f5/5c/6d/fe4a555c7072e9637a6e1bfc40a9e6736a6f567dec50c8c33b\n",
            "Successfully built webcolors\n",
            "Installing collected packages: webcolors\n",
            "Successfully installed webcolors-1.3\n"
          ],
          "name": "stdout"
        }
      ]
    },
    {
      "cell_type": "code",
      "metadata": {
        "id": "sNzJWvoIYBsV",
        "colab_type": "code",
        "colab": {}
      },
      "source": [
        "from webcolors import name_to_rgb\n",
        "name_to_rgb('Tortie')"
      ],
      "execution_count": null,
      "outputs": []
    },
    {
      "cell_type": "code",
      "metadata": {
        "id": "IhPaChxXXeGO",
        "colab_type": "code",
        "colab": {
          "base_uri": "https://localhost:8080/",
          "height": 34
        },
        "outputId": "8f6c6381-d7c4-4104-a6b2-5fc46bd93b50"
      },
      "source": [
        "len(train.color_type.value_counts())"
      ],
      "execution_count": null,
      "outputs": [
        {
          "output_type": "execute_result",
          "data": {
            "text/plain": [
              "56"
            ]
          },
          "metadata": {
            "tags": []
          },
          "execution_count": 22
        }
      ]
    },
    {
      "cell_type": "code",
      "metadata": {
        "id": "EjZUNbrSaboM",
        "colab_type": "code",
        "colab": {
          "base_uri": "https://localhost:8080/",
          "height": 34
        },
        "outputId": "895076a5-ec0c-486b-e664-d09d189ad0d1"
      },
      "source": [
        "len(test.color_type.value_counts())"
      ],
      "execution_count": null,
      "outputs": [
        {
          "output_type": "execute_result",
          "data": {
            "text/plain": [
              "54"
            ]
          },
          "metadata": {
            "tags": []
          },
          "execution_count": 23
        }
      ]
    },
    {
      "cell_type": "code",
      "metadata": {
        "id": "s8qsQDkU5E3L",
        "colab_type": "code",
        "colab": {
          "base_uri": "https://localhost:8080/",
          "height": 297
        },
        "outputId": "4d30e83a-d755-4963-a103-ec904f8cfb1f"
      },
      "source": [
        "test.describe()"
      ],
      "execution_count": null,
      "outputs": [
        {
          "output_type": "execute_result",
          "data": {
            "text/html": [
              "<div>\n",
              "<style scoped>\n",
              "    .dataframe tbody tr th:only-of-type {\n",
              "        vertical-align: middle;\n",
              "    }\n",
              "\n",
              "    .dataframe tbody tr th {\n",
              "        vertical-align: top;\n",
              "    }\n",
              "\n",
              "    .dataframe thead th {\n",
              "        text-align: right;\n",
              "    }\n",
              "</style>\n",
              "<table border=\"1\" class=\"dataframe\">\n",
              "  <thead>\n",
              "    <tr style=\"text-align: right;\">\n",
              "      <th></th>\n",
              "      <th>condition</th>\n",
              "      <th>length(m)</th>\n",
              "      <th>height(cm)</th>\n",
              "      <th>X1</th>\n",
              "      <th>X2</th>\n",
              "    </tr>\n",
              "  </thead>\n",
              "  <tbody>\n",
              "    <tr>\n",
              "      <th>count</th>\n",
              "      <td>8072.000000</td>\n",
              "      <td>8072.000000</td>\n",
              "      <td>8072.000000</td>\n",
              "      <td>8072.000000</td>\n",
              "      <td>8072.000000</td>\n",
              "    </tr>\n",
              "    <tr>\n",
              "      <th>mean</th>\n",
              "      <td>0.895317</td>\n",
              "      <td>0.507265</td>\n",
              "      <td>27.451163</td>\n",
              "      <td>5.254336</td>\n",
              "      <td>4.505327</td>\n",
              "    </tr>\n",
              "    <tr>\n",
              "      <th>std</th>\n",
              "      <td>0.741410</td>\n",
              "      <td>0.289615</td>\n",
              "      <td>12.917903</td>\n",
              "      <td>6.505841</td>\n",
              "      <td>3.523568</td>\n",
              "    </tr>\n",
              "    <tr>\n",
              "      <th>min</th>\n",
              "      <td>0.000000</td>\n",
              "      <td>0.000000</td>\n",
              "      <td>5.010000</td>\n",
              "      <td>0.000000</td>\n",
              "      <td>0.000000</td>\n",
              "    </tr>\n",
              "    <tr>\n",
              "      <th>25%</th>\n",
              "      <td>0.000000</td>\n",
              "      <td>0.260000</td>\n",
              "      <td>16.277500</td>\n",
              "      <td>0.000000</td>\n",
              "      <td>1.000000</td>\n",
              "    </tr>\n",
              "    <tr>\n",
              "      <th>50%</th>\n",
              "      <td>1.000000</td>\n",
              "      <td>0.510000</td>\n",
              "      <td>27.410000</td>\n",
              "      <td>0.000000</td>\n",
              "      <td>4.000000</td>\n",
              "    </tr>\n",
              "    <tr>\n",
              "      <th>75%</th>\n",
              "      <td>1.000000</td>\n",
              "      <td>0.760000</td>\n",
              "      <td>38.480000</td>\n",
              "      <td>13.000000</td>\n",
              "      <td>9.000000</td>\n",
              "    </tr>\n",
              "    <tr>\n",
              "      <th>max</th>\n",
              "      <td>2.000000</td>\n",
              "      <td>1.000000</td>\n",
              "      <td>49.990000</td>\n",
              "      <td>18.000000</td>\n",
              "      <td>9.000000</td>\n",
              "    </tr>\n",
              "  </tbody>\n",
              "</table>\n",
              "</div>"
            ],
            "text/plain": [
              "         condition    length(m)   height(cm)           X1           X2\n",
              "count  8072.000000  8072.000000  8072.000000  8072.000000  8072.000000\n",
              "mean      0.895317     0.507265    27.451163     5.254336     4.505327\n",
              "std       0.741410     0.289615    12.917903     6.505841     3.523568\n",
              "min       0.000000     0.000000     5.010000     0.000000     0.000000\n",
              "25%       0.000000     0.260000    16.277500     0.000000     1.000000\n",
              "50%       1.000000     0.510000    27.410000     0.000000     4.000000\n",
              "75%       1.000000     0.760000    38.480000    13.000000     9.000000\n",
              "max       2.000000     1.000000    49.990000    18.000000     9.000000"
            ]
          },
          "metadata": {
            "tags": []
          },
          "execution_count": 29
        }
      ]
    },
    {
      "cell_type": "code",
      "metadata": {
        "id": "XJhbryaWzPD4",
        "colab_type": "code",
        "colab": {
          "base_uri": "https://localhost:8080/",
          "height": 297
        },
        "outputId": "d11a4aea-70ac-480c-ffc9-a93acaa5da8f"
      },
      "source": [
        "train.describe()"
      ],
      "execution_count": null,
      "outputs": [
        {
          "output_type": "execute_result",
          "data": {
            "text/html": [
              "<div>\n",
              "<style scoped>\n",
              "    .dataframe tbody tr th:only-of-type {\n",
              "        vertical-align: middle;\n",
              "    }\n",
              "\n",
              "    .dataframe tbody tr th {\n",
              "        vertical-align: top;\n",
              "    }\n",
              "\n",
              "    .dataframe thead th {\n",
              "        text-align: right;\n",
              "    }\n",
              "</style>\n",
              "<table border=\"1\" class=\"dataframe\">\n",
              "  <thead>\n",
              "    <tr style=\"text-align: right;\">\n",
              "      <th></th>\n",
              "      <th>condition</th>\n",
              "      <th>length(m)</th>\n",
              "      <th>height(cm)</th>\n",
              "      <th>X1</th>\n",
              "      <th>X2</th>\n",
              "      <th>breed_category</th>\n",
              "      <th>pet_category</th>\n",
              "    </tr>\n",
              "  </thead>\n",
              "  <tbody>\n",
              "    <tr>\n",
              "      <th>count</th>\n",
              "      <td>17357.000000</td>\n",
              "      <td>18834.000000</td>\n",
              "      <td>18834.000000</td>\n",
              "      <td>18834.000000</td>\n",
              "      <td>18834.000000</td>\n",
              "      <td>18834.000000</td>\n",
              "      <td>18834.000000</td>\n",
              "    </tr>\n",
              "    <tr>\n",
              "      <th>mean</th>\n",
              "      <td>0.883390</td>\n",
              "      <td>0.502636</td>\n",
              "      <td>27.448832</td>\n",
              "      <td>5.369598</td>\n",
              "      <td>4.577307</td>\n",
              "      <td>0.600563</td>\n",
              "      <td>1.709143</td>\n",
              "    </tr>\n",
              "    <tr>\n",
              "      <th>std</th>\n",
              "      <td>0.770434</td>\n",
              "      <td>0.288705</td>\n",
              "      <td>13.019781</td>\n",
              "      <td>6.572366</td>\n",
              "      <td>3.517763</td>\n",
              "      <td>0.629883</td>\n",
              "      <td>0.717919</td>\n",
              "    </tr>\n",
              "    <tr>\n",
              "      <th>min</th>\n",
              "      <td>0.000000</td>\n",
              "      <td>0.000000</td>\n",
              "      <td>5.000000</td>\n",
              "      <td>0.000000</td>\n",
              "      <td>0.000000</td>\n",
              "      <td>0.000000</td>\n",
              "      <td>0.000000</td>\n",
              "    </tr>\n",
              "    <tr>\n",
              "      <th>25%</th>\n",
              "      <td>0.000000</td>\n",
              "      <td>0.250000</td>\n",
              "      <td>16.172500</td>\n",
              "      <td>0.000000</td>\n",
              "      <td>1.000000</td>\n",
              "      <td>0.000000</td>\n",
              "      <td>1.000000</td>\n",
              "    </tr>\n",
              "    <tr>\n",
              "      <th>50%</th>\n",
              "      <td>1.000000</td>\n",
              "      <td>0.500000</td>\n",
              "      <td>27.340000</td>\n",
              "      <td>0.000000</td>\n",
              "      <td>4.000000</td>\n",
              "      <td>1.000000</td>\n",
              "      <td>2.000000</td>\n",
              "    </tr>\n",
              "    <tr>\n",
              "      <th>75%</th>\n",
              "      <td>1.000000</td>\n",
              "      <td>0.760000</td>\n",
              "      <td>38.890000</td>\n",
              "      <td>13.000000</td>\n",
              "      <td>9.000000</td>\n",
              "      <td>1.000000</td>\n",
              "      <td>2.000000</td>\n",
              "    </tr>\n",
              "    <tr>\n",
              "      <th>max</th>\n",
              "      <td>2.000000</td>\n",
              "      <td>1.000000</td>\n",
              "      <td>50.000000</td>\n",
              "      <td>19.000000</td>\n",
              "      <td>9.000000</td>\n",
              "      <td>2.000000</td>\n",
              "      <td>4.000000</td>\n",
              "    </tr>\n",
              "  </tbody>\n",
              "</table>\n",
              "</div>"
            ],
            "text/plain": [
              "          condition     length(m)  ...  breed_category  pet_category\n",
              "count  17357.000000  18834.000000  ...    18834.000000  18834.000000\n",
              "mean       0.883390      0.502636  ...        0.600563      1.709143\n",
              "std        0.770434      0.288705  ...        0.629883      0.717919\n",
              "min        0.000000      0.000000  ...        0.000000      0.000000\n",
              "25%        0.000000      0.250000  ...        0.000000      1.000000\n",
              "50%        1.000000      0.500000  ...        1.000000      2.000000\n",
              "75%        1.000000      0.760000  ...        1.000000      2.000000\n",
              "max        2.000000      1.000000  ...        2.000000      4.000000\n",
              "\n",
              "[8 rows x 7 columns]"
            ]
          },
          "metadata": {
            "tags": []
          },
          "execution_count": 12
        }
      ]
    },
    {
      "cell_type": "code",
      "metadata": {
        "id": "ORhLG6aEF9TJ",
        "colab_type": "code",
        "colab": {}
      },
      "source": [
        "train['size_of_animal'] = train['length(m)'] * train['height(cm)']"
      ],
      "execution_count": null,
      "outputs": []
    },
    {
      "cell_type": "code",
      "metadata": {
        "id": "IIvvSRN-GMuE",
        "colab_type": "code",
        "colab": {
          "base_uri": "https://localhost:8080/",
          "height": 170
        },
        "outputId": "51e389f1-1921-483a-c378-c331b2d3f769"
      },
      "source": [
        "train[train.breed_category==0.0].size_of_animal.describe()"
      ],
      "execution_count": null,
      "outputs": [
        {
          "output_type": "execute_result",
          "data": {
            "text/plain": [
              "count    9000.000000\n",
              "mean       13.684629\n",
              "std        10.968582\n",
              "min         0.000000\n",
              "25%         4.869600\n",
              "50%        10.656000\n",
              "75%        20.364500\n",
              "max        49.780000\n",
              "Name: size_of_animal, dtype: float64"
            ]
          },
          "metadata": {
            "tags": []
          },
          "execution_count": 69
        }
      ]
    },
    {
      "cell_type": "code",
      "metadata": {
        "id": "ZdfCme4xHnEP",
        "colab_type": "code",
        "colab": {}
      },
      "source": [
        "train.corr()"
      ],
      "execution_count": null,
      "outputs": []
    },
    {
      "cell_type": "code",
      "metadata": {
        "id": "-cA3WreXKTHo",
        "colab_type": "code",
        "colab": {
          "base_uri": "https://localhost:8080/",
          "height": 34
        },
        "outputId": "d5adf66e-9f49-4ec6-9cef-bcbab82e9ef2"
      },
      "source": [
        "len(train.groupby(['X1','X2']).count())"
      ],
      "execution_count": null,
      "outputs": [
        {
          "output_type": "execute_result",
          "data": {
            "text/plain": [
              "31"
            ]
          },
          "metadata": {
            "tags": []
          },
          "execution_count": 81
        }
      ]
    },
    {
      "cell_type": "code",
      "metadata": {
        "id": "S6-3KwF-Kl3Q",
        "colab_type": "code",
        "colab": {
          "base_uri": "https://localhost:8080/",
          "height": 34
        },
        "outputId": "4436b434-72a8-4c64-bde7-a6abd92b059b"
      },
      "source": [
        "len(test.groupby(['X1','X2']).count())"
      ],
      "execution_count": null,
      "outputs": [
        {
          "output_type": "execute_result",
          "data": {
            "text/plain": [
              "28"
            ]
          },
          "metadata": {
            "tags": []
          },
          "execution_count": 82
        }
      ]
    },
    {
      "cell_type": "code",
      "metadata": {
        "id": "aDE0lW75GaC_",
        "colab_type": "code",
        "colab": {
          "base_uri": "https://localhost:8080/",
          "height": 609
        },
        "outputId": "8168b7c6-b780-4a8e-9ac2-954a2bff66c3"
      },
      "source": [
        "train[train.breed_category==1.0]"
      ],
      "execution_count": null,
      "outputs": [
        {
          "output_type": "execute_result",
          "data": {
            "text/html": [
              "<div>\n",
              "<style scoped>\n",
              "    .dataframe tbody tr th:only-of-type {\n",
              "        vertical-align: middle;\n",
              "    }\n",
              "\n",
              "    .dataframe tbody tr th {\n",
              "        vertical-align: top;\n",
              "    }\n",
              "\n",
              "    .dataframe thead th {\n",
              "        text-align: right;\n",
              "    }\n",
              "</style>\n",
              "<table border=\"1\" class=\"dataframe\">\n",
              "  <thead>\n",
              "    <tr style=\"text-align: right;\">\n",
              "      <th></th>\n",
              "      <th>pet_id</th>\n",
              "      <th>issue_date</th>\n",
              "      <th>listing_date</th>\n",
              "      <th>condition</th>\n",
              "      <th>color_type</th>\n",
              "      <th>length(m)</th>\n",
              "      <th>height(cm)</th>\n",
              "      <th>X1</th>\n",
              "      <th>X2</th>\n",
              "      <th>breed_category</th>\n",
              "      <th>pet_category</th>\n",
              "      <th>size_of_animal</th>\n",
              "      <th>duration_in_shelter</th>\n",
              "    </tr>\n",
              "  </thead>\n",
              "  <tbody>\n",
              "    <tr>\n",
              "      <th>5</th>\n",
              "      <td>ANSL_52200</td>\n",
              "      <td>2017-10-25 00:00:00</td>\n",
              "      <td>2019-03-10 13:18:00</td>\n",
              "      <td>0.0</td>\n",
              "      <td>Red</td>\n",
              "      <td>0.92</td>\n",
              "      <td>29.56</td>\n",
              "      <td>0</td>\n",
              "      <td>7</td>\n",
              "      <td>1.0</td>\n",
              "      <td>2</td>\n",
              "      <td>27.1952</td>\n",
              "      <td>501.554167</td>\n",
              "    </tr>\n",
              "    <tr>\n",
              "      <th>7</th>\n",
              "      <td>ANSL_52759</td>\n",
              "      <td>2018-06-05 00:00:00</td>\n",
              "      <td>2018-09-02 17:04:00</td>\n",
              "      <td>0.0</td>\n",
              "      <td>White</td>\n",
              "      <td>0.15</td>\n",
              "      <td>25.48</td>\n",
              "      <td>7</td>\n",
              "      <td>1</td>\n",
              "      <td>1.0</td>\n",
              "      <td>1</td>\n",
              "      <td>3.8220</td>\n",
              "      <td>89.711111</td>\n",
              "    </tr>\n",
              "    <tr>\n",
              "      <th>8</th>\n",
              "      <td>ANSL_74632</td>\n",
              "      <td>2015-10-10 00:00:00</td>\n",
              "      <td>2016-08-04 16:29:00</td>\n",
              "      <td>2.0</td>\n",
              "      <td>Brown</td>\n",
              "      <td>0.05</td>\n",
              "      <td>38.22</td>\n",
              "      <td>13</td>\n",
              "      <td>9</td>\n",
              "      <td>1.0</td>\n",
              "      <td>2</td>\n",
              "      <td>1.9110</td>\n",
              "      <td>299.686806</td>\n",
              "    </tr>\n",
              "    <tr>\n",
              "      <th>9</th>\n",
              "      <td>ANSL_56464</td>\n",
              "      <td>2014-02-18 00:00:00</td>\n",
              "      <td>2017-03-17 11:38:00</td>\n",
              "      <td>2.0</td>\n",
              "      <td>Brown</td>\n",
              "      <td>0.55</td>\n",
              "      <td>21.26</td>\n",
              "      <td>13</td>\n",
              "      <td>9</td>\n",
              "      <td>1.0</td>\n",
              "      <td>2</td>\n",
              "      <td>11.6930</td>\n",
              "      <td>1123.484722</td>\n",
              "    </tr>\n",
              "    <tr>\n",
              "      <th>10</th>\n",
              "      <td>ANSL_69485</td>\n",
              "      <td>2004-11-17 00:00:00</td>\n",
              "      <td>2016-12-15 13:33:00</td>\n",
              "      <td>0.0</td>\n",
              "      <td>Tricolor</td>\n",
              "      <td>0.30</td>\n",
              "      <td>23.06</td>\n",
              "      <td>0</td>\n",
              "      <td>1</td>\n",
              "      <td>1.0</td>\n",
              "      <td>2</td>\n",
              "      <td>6.9180</td>\n",
              "      <td>4411.564583</td>\n",
              "    </tr>\n",
              "    <tr>\n",
              "      <th>...</th>\n",
              "      <td>...</td>\n",
              "      <td>...</td>\n",
              "      <td>...</td>\n",
              "      <td>...</td>\n",
              "      <td>...</td>\n",
              "      <td>...</td>\n",
              "      <td>...</td>\n",
              "      <td>...</td>\n",
              "      <td>...</td>\n",
              "      <td>...</td>\n",
              "      <td>...</td>\n",
              "      <td>...</td>\n",
              "      <td>...</td>\n",
              "    </tr>\n",
              "    <tr>\n",
              "      <th>18825</th>\n",
              "      <td>ANSL_69812</td>\n",
              "      <td>2008-01-14 00:00:00</td>\n",
              "      <td>2017-04-08 19:56:00</td>\n",
              "      <td>0.0</td>\n",
              "      <td>Black</td>\n",
              "      <td>0.81</td>\n",
              "      <td>44.96</td>\n",
              "      <td>13</td>\n",
              "      <td>9</td>\n",
              "      <td>1.0</td>\n",
              "      <td>1</td>\n",
              "      <td>36.4176</td>\n",
              "      <td>3372.830556</td>\n",
              "    </tr>\n",
              "    <tr>\n",
              "      <th>18827</th>\n",
              "      <td>ANSL_71543</td>\n",
              "      <td>2016-08-25 00:00:00</td>\n",
              "      <td>2017-09-24 19:39:00</td>\n",
              "      <td>0.0</td>\n",
              "      <td>Tricolor</td>\n",
              "      <td>0.13</td>\n",
              "      <td>41.25</td>\n",
              "      <td>0</td>\n",
              "      <td>1</td>\n",
              "      <td>1.0</td>\n",
              "      <td>2</td>\n",
              "      <td>5.3625</td>\n",
              "      <td>395.818750</td>\n",
              "    </tr>\n",
              "    <tr>\n",
              "      <th>18831</th>\n",
              "      <td>ANSL_53210</td>\n",
              "      <td>2010-07-21 00:00:00</td>\n",
              "      <td>2018-08-22 14:27:00</td>\n",
              "      <td>0.0</td>\n",
              "      <td>Calico Point</td>\n",
              "      <td>0.99</td>\n",
              "      <td>28.13</td>\n",
              "      <td>13</td>\n",
              "      <td>9</td>\n",
              "      <td>1.0</td>\n",
              "      <td>1</td>\n",
              "      <td>27.8487</td>\n",
              "      <td>2954.602083</td>\n",
              "    </tr>\n",
              "    <tr>\n",
              "      <th>18832</th>\n",
              "      <td>ANSL_63468</td>\n",
              "      <td>2017-05-12 00:00:00</td>\n",
              "      <td>2018-02-08 14:05:00</td>\n",
              "      <td>0.0</td>\n",
              "      <td>Tan</td>\n",
              "      <td>0.55</td>\n",
              "      <td>44.82</td>\n",
              "      <td>13</td>\n",
              "      <td>9</td>\n",
              "      <td>1.0</td>\n",
              "      <td>2</td>\n",
              "      <td>24.6510</td>\n",
              "      <td>272.586806</td>\n",
              "    </tr>\n",
              "    <tr>\n",
              "      <th>18833</th>\n",
              "      <td>ANSL_73558</td>\n",
              "      <td>2011-12-13 00:00:00</td>\n",
              "      <td>2018-10-26 14:18:00</td>\n",
              "      <td>0.0</td>\n",
              "      <td>Brown</td>\n",
              "      <td>0.86</td>\n",
              "      <td>37.40</td>\n",
              "      <td>0</td>\n",
              "      <td>1</td>\n",
              "      <td>1.0</td>\n",
              "      <td>2</td>\n",
              "      <td>32.1640</td>\n",
              "      <td>2509.595833</td>\n",
              "    </tr>\n",
              "  </tbody>\n",
              "</table>\n",
              "<p>8357 rows × 13 columns</p>\n",
              "</div>"
            ],
            "text/plain": [
              "           pet_id           issue_date  ... size_of_animal  duration_in_shelter\n",
              "5      ANSL_52200  2017-10-25 00:00:00  ...        27.1952           501.554167\n",
              "7      ANSL_52759  2018-06-05 00:00:00  ...         3.8220            89.711111\n",
              "8      ANSL_74632  2015-10-10 00:00:00  ...         1.9110           299.686806\n",
              "9      ANSL_56464  2014-02-18 00:00:00  ...        11.6930          1123.484722\n",
              "10     ANSL_69485  2004-11-17 00:00:00  ...         6.9180          4411.564583\n",
              "...           ...                  ...  ...            ...                  ...\n",
              "18825  ANSL_69812  2008-01-14 00:00:00  ...        36.4176          3372.830556\n",
              "18827  ANSL_71543  2016-08-25 00:00:00  ...         5.3625           395.818750\n",
              "18831  ANSL_53210  2010-07-21 00:00:00  ...        27.8487          2954.602083\n",
              "18832  ANSL_63468  2017-05-12 00:00:00  ...        24.6510           272.586806\n",
              "18833  ANSL_73558  2011-12-13 00:00:00  ...        32.1640          2509.595833\n",
              "\n",
              "[8357 rows x 13 columns]"
            ]
          },
          "metadata": {
            "tags": []
          },
          "execution_count": 75
        }
      ]
    },
    {
      "cell_type": "code",
      "metadata": {
        "id": "kdcptXRwGFrV",
        "colab_type": "code",
        "colab": {}
      },
      "source": [
        "sns.countplot(x=\"breed_category\", hue=\"condition\", data=train)"
      ],
      "execution_count": null,
      "outputs": []
    },
    {
      "cell_type": "code",
      "metadata": {
        "id": "I5HEdUSYZRvT",
        "colab_type": "code",
        "colab": {
          "base_uri": "https://localhost:8080/",
          "height": 187
        },
        "outputId": "cf19f7f6-8abf-4280-a0b4-675ed156b055"
      },
      "source": [
        "plt.figure(figsize=(30,5))\n",
        "sns.countplot(x=\"color_type\", data=train)\n",
        "plt.show()"
      ],
      "execution_count": null,
      "outputs": [
        {
          "output_type": "display_data",
          "data": {
            "image/png": "[encoded data removed]",
            "text/plain": [
              "<Figure size 2160x360 with 1 Axes>"
            ]
          },
          "metadata": {
            "tags": [],
            "needs_background": "light"
          }
        }
      ]
    },
    {
      "cell_type": "code",
      "metadata": {
        "id": "rdh8-O4eGvcy",
        "colab_type": "code",
        "colab": {
          "base_uri": "https://localhost:8080/",
          "height": 297
        },
        "outputId": "d4109a19-53ee-41c2-b7d2-9572db2ef79d"
      },
      "source": [
        "sns.countplot(x=\"breed_category\", hue=\"condition\", data=train)"
      ],
      "execution_count": null,
      "outputs": [
        {
          "output_type": "execute_result",
          "data": {
            "text/plain": [
              "<matplotlib.axes._subplots.AxesSubplot at 0x7fcba8145b00>"
            ]
          },
          "metadata": {
            "tags": []
          },
          "execution_count": 50
        },
        {
          "output_type": "display_data",
          "data": {
            "image/png": "[encoded data removed]",
            "text/plain": [
              "<Figure size 432x288 with 1 Axes>"
            ]
          },
          "metadata": {
            "tags": [],
            "needs_background": "light"
          }
        }
      ]
    },
    {
      "cell_type": "code",
      "metadata": {
        "id": "A64jYE2SBhlP",
        "colab_type": "code",
        "colab": {
          "base_uri": "https://localhost:8080/",
          "height": 296
        },
        "outputId": "478b4c21-0489-41d7-d9c1-e3c90ef3afac"
      },
      "source": [
        "sns.countplot(x=\"condition\", hue=\"pet_category\", data=train)"
      ],
      "execution_count": null,
      "outputs": [
        {
          "output_type": "execute_result",
          "data": {
            "text/plain": [
              "<matplotlib.axes._subplots.AxesSubplot at 0x7fcbc0644748>"
            ]
          },
          "metadata": {
            "tags": []
          },
          "execution_count": 10
        },
        {
          "output_type": "display_data",
          "data": {
            "image/png": "[encoded data removed]",
            "text/plain": [
              "<Figure size 432x288 with 1 Axes>"
            ]
          },
          "metadata": {
            "tags": [],
            "needs_background": "light"
          }
        }
      ]
    },
    {
      "cell_type": "code",
      "metadata": {
        "id": "Nw9y5HXk0V7c",
        "colab_type": "code",
        "colab": {
          "base_uri": "https://localhost:8080/",
          "height": 297
        },
        "outputId": "c471d5c1-6d31-4d2a-8168-e14d636bfe0f"
      },
      "source": [
        "sns.countplot(x=\"breed_category\", hue=\"pet_category\", data=train)"
      ],
      "execution_count": null,
      "outputs": [
        {
          "output_type": "execute_result",
          "data": {
            "text/plain": [
              "<matplotlib.axes._subplots.AxesSubplot at 0x7f9d60ae0dd8>"
            ]
          },
          "metadata": {
            "tags": []
          },
          "execution_count": 15
        },
        {
          "output_type": "display_data",
          "data": {
            "image/png": "[encoded data removed]",
            "text/plain": [
              "<Figure size 432x288 with 1 Axes>"
            ]
          },
          "metadata": {
            "tags": [],
            "needs_background": "light"
          }
        }
      ]
    },
    {
      "cell_type": "markdown",
      "metadata": {
        "id": "1JsMKXJlq9i6",
        "colab_type": "text"
      },
      "source": [
        "To give score to color based on breed_category and pet_category"
      ]
    },
    {
      "cell_type": "code",
      "metadata": {
        "id": "nhhjnRjNe7CJ",
        "colab_type": "code",
        "colab": {}
      },
      "source": [
        "breed_color_df = train.groupby(['breed_category','color_type']).color_type.agg('count').to_frame('count').reset_index()\n",
        "\n",
        "breed_color_df.loc[breed_color_df['breed_category']==0.0, 'score'] = breed_color_df.loc[breed_color_df['breed_category']==0.0, 'count'] / 2367\n",
        "breed_color_df.loc[breed_color_df['breed_category']==1.0, 'score'] = breed_color_df.loc[breed_color_df['breed_category']==1.0, 'count'] / 1930\n",
        "breed_color_df.loc[breed_color_df['breed_category']==2.0, 'score'] = breed_color_df.loc[breed_color_df['breed_category']==2.0, 'count'] / 432\n",
        "\n",
        "breed_color_df = breed_color_df.drop(['count'], axis=1)\n",
        "breed_color_df = breed_color_df.pivot(index='color_type', columns='breed_category')\n",
        "\n",
        "breed_color_df.columns = breed_color_df.columns.droplevel(0)\n",
        "breed_color_df.columns = ['breed_category0_score', 'breed_category1_score', 'breed_category2_score']\n",
        "\n",
        "breed_color_df = breed_color_df.reset_index(level=0, drop=False)\n",
        "breed_color_df = breed_color_df.fillna(0.0)"
      ],
      "execution_count": null,
      "outputs": []
    },
    {
      "cell_type": "code",
      "metadata": {
        "id": "FZHdjJcGrWAR",
        "colab_type": "code",
        "colab": {}
      },
      "source": [
        "breed_color_df"
      ],
      "execution_count": null,
      "outputs": []
    },
    {
      "cell_type": "code",
      "metadata": {
        "id": "ay3i2quirJFU",
        "colab_type": "code",
        "colab": {}
      },
      "source": [
        "pet_color_df = train.groupby(['pet_category','color_type']).color_type.agg('count').to_frame('count').reset_index()\n",
        "\n",
        "pet_color_df.loc[pet_color_df['pet_category']==0, 'score'] = pet_color_df.loc[pet_color_df['pet_category']==0, 'count'] / 18\n",
        "pet_color_df.loc[pet_color_df['pet_category']==1, 'score'] = pet_color_df.loc[pet_color_df['pet_category']==1, 'count'] / 1687\n",
        "pet_color_df.loc[pet_color_df['pet_category']==2, 'score'] = pet_color_df.loc[pet_color_df['pet_category']==2, 'count'] / 2730\n",
        "pet_color_df.loc[pet_color_df['pet_category']==4, 'score'] = pet_color_df.loc[pet_color_df['pet_category']==4, 'count'] / 435\n",
        "\n",
        "pet_color_df = pet_color_df.drop(['count'], axis=1)\n",
        "pet_color_df = pet_color_df.pivot(index='color_type', columns='pet_category')\n",
        "\n",
        "pet_color_df.columns = pet_color_df.columns.droplevel(0)\n",
        "pet_color_df.columns = ['pet_category0_score', 'pet_category1_score', 'pet_category2_score', 'pet_category4_score']\n",
        "\n",
        "pet_color_df = pet_color_df.reset_index(level=0, drop=False)\n",
        "pet_color_df = pet_color_df.fillna(0.0)"
      ],
      "execution_count": null,
      "outputs": []
    },
    {
      "cell_type": "code",
      "metadata": {
        "id": "Ovq2Yo7Nsbi3",
        "colab_type": "code",
        "colab": {}
      },
      "source": [
        "pet_color_df.columns, breed_color_df.columns"
      ],
      "execution_count": null,
      "outputs": []
    },
    {
      "cell_type": "code",
      "metadata": {
        "id": "uFip0GfusfgT",
        "colab_type": "code",
        "colab": {
          "base_uri": "https://localhost:8080/",
          "height": 34
        },
        "outputId": "f025ffcf-937d-4ebd-daac-3ba5c60600a4"
      },
      "source": [
        "breed_color_df.shape, pet_color_df.shape"
      ],
      "execution_count": null,
      "outputs": [
        {
          "output_type": "execute_result",
          "data": {
            "text/plain": [
              "((56, 4), (56, 5))"
            ]
          },
          "metadata": {
            "tags": []
          },
          "execution_count": 154
        }
      ]
    },
    {
      "cell_type": "code",
      "metadata": {
        "id": "sWxQUkM7tMrB",
        "colab_type": "code",
        "colab": {}
      },
      "source": [
        "color_scores_df = pd.merge(pet_color_df, breed_color_df, on=\"color_type\")"
      ],
      "execution_count": null,
      "outputs": []
    },
    {
      "cell_type": "code",
      "metadata": {
        "id": "0UYFI5xOteUI",
        "colab_type": "code",
        "colab": {}
      },
      "source": [
        "color_scores_df"
      ],
      "execution_count": null,
      "outputs": []
    },
    {
      "cell_type": "code",
      "metadata": {
        "id": "UKMSm9Tas101",
        "colab_type": "code",
        "colab": {}
      },
      "source": [
        "pet_color_df.describe()"
      ],
      "execution_count": null,
      "outputs": []
    },
    {
      "cell_type": "code",
      "metadata": {
        "id": "pzwkBqeRv3kr",
        "colab_type": "code",
        "colab": {}
      },
      "source": [
        "train = train.merge(train.merge(color_scores_df, on=\"color_type\", sort=False))\n",
        "test = test.merge(test.merge(color_scores_df, on=\"color_type\", sort=False))"
      ],
      "execution_count": null,
      "outputs": []
    },
    {
      "cell_type": "code",
      "metadata": {
        "id": "4BJ4JfMYtItV",
        "colab_type": "code",
        "colab": {}
      },
      "source": [
        "# train = pd.merge(train, color_scores_df, on=\"color_type\", sort=False)\n",
        "# test = pd.merge(test, color_scores_df, on=\"color_type\", sort=False)"
      ],
      "execution_count": null,
      "outputs": []
    },
    {
      "cell_type": "code",
      "metadata": {
        "id": "tYo3J7xWtzyp",
        "colab_type": "code",
        "colab": {}
      },
      "source": [
        "train"
      ],
      "execution_count": null,
      "outputs": []
    },
    {
      "cell_type": "code",
      "metadata": {
        "id": "hS8SQP72cUK8",
        "colab_type": "code",
        "colab": {}
      },
      "source": [
        "breed_color_dict = color_group_df.breed_category.value_counts().to_dict()"
      ],
      "execution_count": null,
      "outputs": []
    },
    {
      "cell_type": "code",
      "metadata": {
        "id": "cAGtMA8vgenG",
        "colab_type": "code",
        "colab": {
          "base_uri": "https://localhost:8080/",
          "height": 34
        },
        "outputId": "1ea980db-a9a2-4d75-e313-b33ecc6d6bc9"
      },
      "source": [
        "breed_color_dict"
      ],
      "execution_count": null,
      "outputs": [
        {
          "output_type": "execute_result",
          "data": {
            "text/plain": [
              "{0.0: 51, 1.0: 55, 2.0: 39}"
            ]
          },
          "metadata": {
            "tags": []
          },
          "execution_count": 43
        }
      ]
    },
    {
      "cell_type": "code",
      "metadata": {
        "id": "jZ2cQJ1Feprz",
        "colab_type": "code",
        "colab": {}
      },
      "source": [
        "new_df"
      ],
      "execution_count": null,
      "outputs": []
    },
    {
      "cell_type": "code",
      "metadata": {
        "id": "pGdZSfq2c13f",
        "colab_type": "code",
        "colab": {
          "base_uri": "https://localhost:8080/",
          "height": 119
        },
        "outputId": "6a0ab9d6-59ef-41ab-83d9-a28923fdc58c"
      },
      "source": [
        "pet_group_df.groupby(['pet_category'])['count'].max()"
      ],
      "execution_count": null,
      "outputs": [
        {
          "output_type": "execute_result",
          "data": {
            "text/plain": [
              "pet_category\n",
              "0      18\n",
              "1    1687\n",
              "2    2730\n",
              "4     435\n",
              "Name: count, dtype: int64"
            ]
          },
          "metadata": {
            "tags": []
          },
          "execution_count": 149
        }
      ]
    },
    {
      "cell_type": "code",
      "metadata": {
        "id": "MimiFHZVjIjs",
        "colab_type": "code",
        "colab": {}
      },
      "source": [
        "color_group_df"
      ],
      "execution_count": null,
      "outputs": []
    },
    {
      "cell_type": "code",
      "metadata": {
        "id": "G3m8fnw1yg4Q",
        "colab_type": "code",
        "colab": {
          "base_uri": "https://localhost:8080/",
          "height": 389
        },
        "outputId": "73246ef3-e41f-4fc0-944e-f828dca22d70"
      },
      "source": [
        "temp_df = train.groupby(['breed_category','pet_category'])['length(m)'].agg('mean').to_frame('mean').reset_index()\n",
        "plt.figure(figsize=(8,6))\n",
        "sns.barplot(x=\"breed_category\", y=\"mean\", hue=\"pet_category\", data=temp_df)\n",
        "plt.show()"
      ],
      "execution_count": null,
      "outputs": [
        {
          "output_type": "display_data",
          "data": {
            "image/png": "[encoded data removed]",
            "text/plain": [
              "<Figure size 576x432 with 1 Axes>"
            ]
          },
          "metadata": {
            "tags": [],
            "needs_background": "light"
          }
        }
      ]
    },
    {
      "cell_type": "code",
      "metadata": {
        "id": "pONmyDE217th",
        "colab_type": "code",
        "colab": {
          "base_uri": "https://localhost:8080/",
          "height": 204
        },
        "outputId": "0ff27b8e-f4fd-4d85-f0d8-9a49efa0e6c2"
      },
      "source": [
        "train.X2.value_counts()"
      ],
      "execution_count": null,
      "outputs": [
        {
          "output_type": "execute_result",
          "data": {
            "text/plain": [
              "1    8493\n",
              "9    5144\n",
              "7    3608\n",
              "4    1263\n",
              "2     183\n",
              "3      64\n",
              "8      58\n",
              "5      12\n",
              "6       5\n",
              "0       4\n",
              "Name: X2, dtype: int64"
            ]
          },
          "metadata": {
            "tags": []
          },
          "execution_count": 23
        }
      ]
    },
    {
      "cell_type": "markdown",
      "metadata": {
        "id": "Jscb0LNFut1s",
        "colab_type": "text"
      },
      "source": [
        "Imputing Values"
      ]
    },
    {
      "cell_type": "code",
      "metadata": {
        "id": "QpTibszCuwaA",
        "colab_type": "code",
        "colab": {}
      },
      "source": [
        "from fancyimpute import KNN\n",
        "new_train = KNN(k=3).fit_transform(train[['condition']])\n",
        "new_test = KNN(k=3).fit_transform(test[['condition']])"
      ],
      "execution_count": null,
      "outputs": []
    },
    {
      "cell_type": "code",
      "metadata": {
        "id": "WQaaODQMvdZb",
        "colab_type": "code",
        "colab": {}
      },
      "source": [
        "new_train"
      ],
      "execution_count": null,
      "outputs": []
    },
    {
      "cell_type": "code",
      "metadata": {
        "id": "W2PAE5cLvgqL",
        "colab_type": "code",
        "colab": {}
      },
      "source": [
        "new_train = [item for sublist in new_train for item in sublist]\n",
        "new_test = [item for sublist in new_test for item in sublist]"
      ],
      "execution_count": null,
      "outputs": []
    },
    {
      "cell_type": "code",
      "metadata": {
        "id": "tmKuyMmDzJAS",
        "colab_type": "code",
        "colab": {
          "base_uri": "https://localhost:8080/",
          "height": 340
        },
        "outputId": "5ff34fa2-84cc-462e-97e9-74bca6bcabae"
      },
      "source": [
        "train.isnull().sum()"
      ],
      "execution_count": null,
      "outputs": [
        {
          "output_type": "execute_result",
          "data": {
            "text/plain": [
              "pet_id                   0\n",
              "issue_date               0\n",
              "listing_date             0\n",
              "condition                0\n",
              "color_type               0\n",
              "length(m)                0\n",
              "height(cm)               0\n",
              "X1                       0\n",
              "X2                       0\n",
              "breed_category           0\n",
              "pet_category             0\n",
              "pet_category0_score      0\n",
              "pet_category1_score      0\n",
              "pet_category2_score      0\n",
              "pet_category4_score      0\n",
              "breed_category0_score    0\n",
              "breed_category1_score    0\n",
              "breed_category2_score    0\n",
              "dtype: int64"
            ]
          },
          "metadata": {
            "tags": []
          },
          "execution_count": 167
        }
      ]
    },
    {
      "cell_type": "code",
      "metadata": {
        "id": "rGkRDDTJvVmA",
        "colab_type": "code",
        "colab": {}
      },
      "source": [
        "train['condition'] = new_train\n",
        "test['condition'] = new_test"
      ],
      "execution_count": null,
      "outputs": []
    },
    {
      "cell_type": "code",
      "metadata": {
        "id": "KZvjcHnzvOzs",
        "colab_type": "code",
        "colab": {}
      },
      "source": [
        "train.head()"
      ],
      "execution_count": null,
      "outputs": []
    },
    {
      "cell_type": "code",
      "metadata": {
        "id": "pG-vbLK4ozMM",
        "colab_type": "code",
        "colab": {}
      },
      "source": [
        "train['condition'] = train['condition'].fillna(3.0)\n",
        "test['condition'] = test['condition'].fillna(3.0)"
      ],
      "execution_count": null,
      "outputs": []
    },
    {
      "cell_type": "code",
      "metadata": {
        "id": "H-IbDBRP3r5X",
        "colab_type": "code",
        "colab": {}
      },
      "source": [
        "train['condition'] = train['condition'].fillna(train['condition'].mode()[0])\n",
        "test['condition'] = test['condition'].fillna(test['condition'].mode()[0])"
      ],
      "execution_count": null,
      "outputs": []
    },
    {
      "cell_type": "code",
      "metadata": {
        "id": "kdctI8j94XgJ",
        "colab_type": "code",
        "colab": {
          "base_uri": "https://localhost:8080/",
          "height": 981
        },
        "outputId": "e51d0b70-c1a0-4c1a-bb39-69f8151354b2"
      },
      "source": [
        "sns.pairplot(train)"
      ],
      "execution_count": null,
      "outputs": [
        {
          "output_type": "execute_result",
          "data": {
            "text/plain": [
              "<seaborn.axisgrid.PairGrid at 0x7f9d5e580ba8>"
            ]
          },
          "metadata": {
            "tags": []
          },
          "execution_count": 28
        },
        {
          "output_type": "display_data",
          "data": {
            "image/png": "[encoded data removed]",
            "text/plain": [
              "<Figure size 1260x1260 with 56 Axes>"
            ]
          },
          "metadata": {
            "tags": [],
            "needs_background": "light"
          }
        }
      ]
    },
    {
      "cell_type": "code",
      "metadata": {
        "id": "N66kzOQx49am",
        "colab_type": "code",
        "colab": {}
      },
      "source": [
        "from sklearn.preprocessing import MinMaxScaler\n",
        "scaler = MinMaxScaler(feature_range=(0,1))\n",
        "train['height(cm)'] = scaler.fit_transform(train[['height(cm)']])\n",
        "test['height(cm)'] = scaler.transform(test[['height(cm)']])"
      ],
      "execution_count": null,
      "outputs": []
    },
    {
      "cell_type": "code",
      "metadata": {
        "id": "I14Shp_V5emN",
        "colab_type": "code",
        "colab": {
          "base_uri": "https://localhost:8080/",
          "height": 317
        },
        "outputId": "1d2f0a9d-969f-4784-d8ce-dd41befd3072"
      },
      "source": [
        "train.describe()"
      ],
      "execution_count": null,
      "outputs": [
        {
          "output_type": "execute_result",
          "data": {
            "text/html": [
              "<div>\n",
              "<style scoped>\n",
              "    .dataframe tbody tr th:only-of-type {\n",
              "        vertical-align: middle;\n",
              "    }\n",
              "\n",
              "    .dataframe tbody tr th {\n",
              "        vertical-align: top;\n",
              "    }\n",
              "\n",
              "    .dataframe thead th {\n",
              "        text-align: right;\n",
              "    }\n",
              "</style>\n",
              "<table border=\"1\" class=\"dataframe\">\n",
              "  <thead>\n",
              "    <tr style=\"text-align: right;\">\n",
              "      <th></th>\n",
              "      <th>condition</th>\n",
              "      <th>length(m)</th>\n",
              "      <th>height(cm)</th>\n",
              "      <th>X1</th>\n",
              "      <th>X2</th>\n",
              "      <th>breed_category</th>\n",
              "      <th>pet_category</th>\n",
              "      <th>duration_in_shelter</th>\n",
              "      <th>height_length_ratio</th>\n",
              "    </tr>\n",
              "  </thead>\n",
              "  <tbody>\n",
              "    <tr>\n",
              "      <th>count</th>\n",
              "      <td>18834.000000</td>\n",
              "      <td>18834.000000</td>\n",
              "      <td>18834.000000</td>\n",
              "      <td>18834.000000</td>\n",
              "      <td>18834.000000</td>\n",
              "      <td>18834.000000</td>\n",
              "      <td>18834.000000</td>\n",
              "      <td>18834.000000</td>\n",
              "      <td>1.883400e+04</td>\n",
              "    </tr>\n",
              "    <tr>\n",
              "      <th>mean</th>\n",
              "      <td>0.814113</td>\n",
              "      <td>0.502636</td>\n",
              "      <td>0.498863</td>\n",
              "      <td>5.369598</td>\n",
              "      <td>4.577307</td>\n",
              "      <td>0.600563</td>\n",
              "      <td>1.709143</td>\n",
              "      <td>855.917804</td>\n",
              "      <td>inf</td>\n",
              "    </tr>\n",
              "    <tr>\n",
              "      <th>std</th>\n",
              "      <td>0.776801</td>\n",
              "      <td>0.288705</td>\n",
              "      <td>0.289328</td>\n",
              "      <td>6.572366</td>\n",
              "      <td>3.517763</td>\n",
              "      <td>0.629883</td>\n",
              "      <td>0.717919</td>\n",
              "      <td>1096.668115</td>\n",
              "      <td>NaN</td>\n",
              "    </tr>\n",
              "    <tr>\n",
              "      <th>min</th>\n",
              "      <td>0.000000</td>\n",
              "      <td>0.000000</td>\n",
              "      <td>0.000000</td>\n",
              "      <td>0.000000</td>\n",
              "      <td>0.000000</td>\n",
              "      <td>0.000000</td>\n",
              "      <td>0.000000</td>\n",
              "      <td>-75.290972</td>\n",
              "      <td>0.000000e+00</td>\n",
              "    </tr>\n",
              "    <tr>\n",
              "      <th>25%</th>\n",
              "      <td>0.000000</td>\n",
              "      <td>0.250000</td>\n",
              "      <td>0.248278</td>\n",
              "      <td>0.000000</td>\n",
              "      <td>1.000000</td>\n",
              "      <td>0.000000</td>\n",
              "      <td>1.000000</td>\n",
              "      <td>119.779861</td>\n",
              "      <td>5.071126e-01</td>\n",
              "    </tr>\n",
              "    <tr>\n",
              "      <th>50%</th>\n",
              "      <td>1.000000</td>\n",
              "      <td>0.500000</td>\n",
              "      <td>0.496444</td>\n",
              "      <td>0.000000</td>\n",
              "      <td>4.000000</td>\n",
              "      <td>1.000000</td>\n",
              "      <td>2.000000</td>\n",
              "      <td>392.768056</td>\n",
              "      <td>1.006986e+00</td>\n",
              "    </tr>\n",
              "    <tr>\n",
              "      <th>75%</th>\n",
              "      <td>1.000000</td>\n",
              "      <td>0.760000</td>\n",
              "      <td>0.753111</td>\n",
              "      <td>13.000000</td>\n",
              "      <td>9.000000</td>\n",
              "      <td>1.000000</td>\n",
              "      <td>2.000000</td>\n",
              "      <td>1117.375000</td>\n",
              "      <td>2.024522e+00</td>\n",
              "    </tr>\n",
              "    <tr>\n",
              "      <th>max</th>\n",
              "      <td>2.000000</td>\n",
              "      <td>1.000000</td>\n",
              "      <td>1.000000</td>\n",
              "      <td>19.000000</td>\n",
              "      <td>9.000000</td>\n",
              "      <td>2.000000</td>\n",
              "      <td>4.000000</td>\n",
              "      <td>8056.658333</td>\n",
              "      <td>inf</td>\n",
              "    </tr>\n",
              "  </tbody>\n",
              "</table>\n",
              "</div>"
            ],
            "text/plain": [
              "          condition     length(m)  ...  duration_in_shelter  height_length_ratio\n",
              "count  18834.000000  18834.000000  ...         18834.000000         1.883400e+04\n",
              "mean       0.814113      0.502636  ...           855.917804                  inf\n",
              "std        0.776801      0.288705  ...          1096.668115                  NaN\n",
              "min        0.000000      0.000000  ...           -75.290972         0.000000e+00\n",
              "25%        0.000000      0.250000  ...           119.779861         5.071126e-01\n",
              "50%        1.000000      0.500000  ...           392.768056         1.006986e+00\n",
              "75%        1.000000      0.760000  ...          1117.375000         2.024522e+00\n",
              "max        2.000000      1.000000  ...          8056.658333                  inf\n",
              "\n",
              "[8 rows x 9 columns]"
            ]
          },
          "metadata": {
            "tags": []
          },
          "execution_count": 64
        }
      ]
    },
    {
      "cell_type": "code",
      "metadata": {
        "id": "Xnmv4ZiH5r4Q",
        "colab_type": "code",
        "colab": {
          "base_uri": "https://localhost:8080/",
          "height": 309
        },
        "outputId": "6056596d-bdab-4fc7-8aa6-79708e47ad41"
      },
      "source": [
        "train.head()"
      ],
      "execution_count": null,
      "outputs": [
        {
          "output_type": "execute_result",
          "data": {
            "text/html": [
              "<div>\n",
              "<style scoped>\n",
              "    .dataframe tbody tr th:only-of-type {\n",
              "        vertical-align: middle;\n",
              "    }\n",
              "\n",
              "    .dataframe tbody tr th {\n",
              "        vertical-align: top;\n",
              "    }\n",
              "\n",
              "    .dataframe thead th {\n",
              "        text-align: right;\n",
              "    }\n",
              "</style>\n",
              "<table border=\"1\" class=\"dataframe\">\n",
              "  <thead>\n",
              "    <tr style=\"text-align: right;\">\n",
              "      <th></th>\n",
              "      <th>pet_id</th>\n",
              "      <th>issue_date</th>\n",
              "      <th>listing_date</th>\n",
              "      <th>condition</th>\n",
              "      <th>color_type</th>\n",
              "      <th>length(m)</th>\n",
              "      <th>height(cm)</th>\n",
              "      <th>X1</th>\n",
              "      <th>X2</th>\n",
              "      <th>breed_category</th>\n",
              "      <th>pet_category</th>\n",
              "      <th>duration_in_shelter</th>\n",
              "    </tr>\n",
              "  </thead>\n",
              "  <tbody>\n",
              "    <tr>\n",
              "      <th>0</th>\n",
              "      <td>ANSL_69903</td>\n",
              "      <td>2016-07-10 00:00:00</td>\n",
              "      <td>2016-09-21 16:25:00</td>\n",
              "      <td>2.0</td>\n",
              "      <td>Brown Tabby</td>\n",
              "      <td>0.80</td>\n",
              "      <td>7.78</td>\n",
              "      <td>13</td>\n",
              "      <td>9</td>\n",
              "      <td>0.0</td>\n",
              "      <td>1</td>\n",
              "      <td>73.684028</td>\n",
              "    </tr>\n",
              "    <tr>\n",
              "      <th>1</th>\n",
              "      <td>ANSL_66892</td>\n",
              "      <td>2013-11-21 00:00:00</td>\n",
              "      <td>2018-12-27 17:47:00</td>\n",
              "      <td>1.0</td>\n",
              "      <td>White</td>\n",
              "      <td>0.72</td>\n",
              "      <td>14.19</td>\n",
              "      <td>13</td>\n",
              "      <td>9</td>\n",
              "      <td>0.0</td>\n",
              "      <td>2</td>\n",
              "      <td>1862.740972</td>\n",
              "    </tr>\n",
              "    <tr>\n",
              "      <th>2</th>\n",
              "      <td>ANSL_69750</td>\n",
              "      <td>2014-09-28 00:00:00</td>\n",
              "      <td>2016-10-19 08:24:00</td>\n",
              "      <td>1.0</td>\n",
              "      <td>Brown</td>\n",
              "      <td>0.15</td>\n",
              "      <td>40.90</td>\n",
              "      <td>15</td>\n",
              "      <td>4</td>\n",
              "      <td>2.0</td>\n",
              "      <td>4</td>\n",
              "      <td>752.350000</td>\n",
              "    </tr>\n",
              "    <tr>\n",
              "      <th>3</th>\n",
              "      <td>ANSL_71623</td>\n",
              "      <td>2016-12-31 00:00:00</td>\n",
              "      <td>2019-01-25 18:30:00</td>\n",
              "      <td>1.0</td>\n",
              "      <td>White</td>\n",
              "      <td>0.62</td>\n",
              "      <td>17.82</td>\n",
              "      <td>0</td>\n",
              "      <td>1</td>\n",
              "      <td>0.0</td>\n",
              "      <td>2</td>\n",
              "      <td>755.770833</td>\n",
              "    </tr>\n",
              "    <tr>\n",
              "      <th>4</th>\n",
              "      <td>ANSL_57969</td>\n",
              "      <td>2017-09-28 00:00:00</td>\n",
              "      <td>2017-11-19 09:38:00</td>\n",
              "      <td>2.0</td>\n",
              "      <td>Black</td>\n",
              "      <td>0.50</td>\n",
              "      <td>11.06</td>\n",
              "      <td>18</td>\n",
              "      <td>4</td>\n",
              "      <td>0.0</td>\n",
              "      <td>1</td>\n",
              "      <td>52.401389</td>\n",
              "    </tr>\n",
              "  </tbody>\n",
              "</table>\n",
              "</div>"
            ],
            "text/plain": [
              "       pet_id           issue_date  ... pet_category  duration_in_shelter\n",
              "0  ANSL_69903  2016-07-10 00:00:00  ...            1            73.684028\n",
              "1  ANSL_66892  2013-11-21 00:00:00  ...            2          1862.740972\n",
              "2  ANSL_69750  2014-09-28 00:00:00  ...            4           752.350000\n",
              "3  ANSL_71623  2016-12-31 00:00:00  ...            2           755.770833\n",
              "4  ANSL_57969  2017-09-28 00:00:00  ...            1            52.401389\n",
              "\n",
              "[5 rows x 12 columns]"
            ]
          },
          "metadata": {
            "tags": []
          },
          "execution_count": 127
        }
      ]
    },
    {
      "cell_type": "code",
      "metadata": {
        "id": "F6LZFnznDM16",
        "colab_type": "code",
        "colab": {}
      },
      "source": [
        "train['duration_in_shelter'] = pd.to_datetime(train['listing_date']).sub(pd.to_datetime(train['issue_date']), axis=0) / np.timedelta64(1, 'D')\n",
        "test['duration_in_shelter'] = pd.to_datetime(test['listing_date']).sub(pd.to_datetime(test['issue_date']), axis=0) / np.timedelta64(1, 'D')"
      ],
      "execution_count": null,
      "outputs": []
    },
    {
      "cell_type": "code",
      "metadata": {
        "id": "wGshCkXw0Hc6",
        "colab_type": "code",
        "colab": {}
      },
      "source": [
        "test.isnull().sum()"
      ],
      "execution_count": null,
      "outputs": []
    },
    {
      "cell_type": "code",
      "metadata": {
        "id": "qATh2KDl56qN",
        "colab_type": "code",
        "colab": {}
      },
      "source": [
        "test.head()"
      ],
      "execution_count": null,
      "outputs": []
    },
    {
      "cell_type": "code",
      "metadata": {
        "id": "ieYu6usV-kUy",
        "colab_type": "code",
        "colab": {}
      },
      "source": [
        "total_df = pd.concat([train, test])"
      ],
      "execution_count": null,
      "outputs": []
    },
    {
      "cell_type": "code",
      "metadata": {
        "id": "M5kMJgtN_Ea9",
        "colab_type": "code",
        "colab": {
          "base_uri": "https://localhost:8080/",
          "height": 34
        },
        "outputId": "358c099b-2a43-46a1-b21d-90c1b78341dd"
      },
      "source": [
        "total_df.shape, train.shape, test.shape"
      ],
      "execution_count": null,
      "outputs": [
        {
          "output_type": "execute_result",
          "data": {
            "text/plain": [
              "((26906, 11), (18834, 12), (8072, 10))"
            ]
          },
          "metadata": {
            "tags": []
          },
          "execution_count": 146
        }
      ]
    },
    {
      "cell_type": "code",
      "metadata": {
        "id": "gYEoxdYKLhEj",
        "colab_type": "code",
        "colab": {}
      },
      "source": [
        "total_df['X'] = total_df['X1'].astype(str) + total_df['X2'].astype(str) "
      ],
      "execution_count": null,
      "outputs": []
    },
    {
      "cell_type": "code",
      "metadata": {
        "id": "uqo2jU11MQ5w",
        "colab_type": "code",
        "colab": {}
      },
      "source": [
        "total_df = total_df.drop(['X1','X2'], axis=1)"
      ],
      "execution_count": null,
      "outputs": []
    },
    {
      "cell_type": "code",
      "metadata": {
        "id": "YpCN0xYO_KHj",
        "colab_type": "code",
        "colab": {}
      },
      "source": [
        "total_df = pd.get_dummies(data=total_df, columns=['condition','color_type','X'])"
      ],
      "execution_count": null,
      "outputs": []
    },
    {
      "cell_type": "code",
      "metadata": {
        "id": "YiZA2AWPEFjl",
        "colab_type": "code",
        "colab": {}
      },
      "source": [
        "from sklearn.preprocessing import MinMaxScaler\n",
        "scaler = MinMaxScaler(feature_range=(0,1))\n",
        "total_df['duration_in_shelter'] = scaler.fit_transform(total_df[['duration_in_shelter']])"
      ],
      "execution_count": null,
      "outputs": []
    },
    {
      "cell_type": "code",
      "metadata": {
        "id": "1A9rotcfGa8i",
        "colab_type": "code",
        "colab": {
          "base_uri": "https://localhost:8080/",
          "height": 317
        },
        "outputId": "a15181ef-2745-4161-9ad9-1f07d39e11eb"
      },
      "source": [
        "total_df.describe()"
      ],
      "execution_count": null,
      "outputs": [
        {
          "output_type": "execute_result",
          "data": {
            "text/html": [
              "<div>\n",
              "<style scoped>\n",
              "    .dataframe tbody tr th:only-of-type {\n",
              "        vertical-align: middle;\n",
              "    }\n",
              "\n",
              "    .dataframe tbody tr th {\n",
              "        vertical-align: top;\n",
              "    }\n",
              "\n",
              "    .dataframe thead th {\n",
              "        text-align: right;\n",
              "    }\n",
              "</style>\n",
              "<table border=\"1\" class=\"dataframe\">\n",
              "  <thead>\n",
              "    <tr style=\"text-align: right;\">\n",
              "      <th></th>\n",
              "      <th>length(m)</th>\n",
              "      <th>height(cm)</th>\n",
              "      <th>breed_category</th>\n",
              "      <th>pet_category</th>\n",
              "      <th>pet_category0_score</th>\n",
              "      <th>pet_category1_score</th>\n",
              "      <th>pet_category2_score</th>\n",
              "      <th>pet_category4_score</th>\n",
              "      <th>breed_category0_score</th>\n",
              "      <th>breed_category1_score</th>\n",
              "      <th>breed_category2_score</th>\n",
              "      <th>duration_in_shelter</th>\n",
              "      <th>condition_0.0</th>\n",
              "      <th>condition_1.0</th>\n",
              "      <th>condition_2.0</th>\n",
              "      <th>X1_0</th>\n",
              "      <th>X1_1</th>\n",
              "      <th>X1_2</th>\n",
              "      <th>X1_3</th>\n",
              "      <th>X1_4</th>\n",
              "      <th>X1_5</th>\n",
              "      <th>X1_6</th>\n",
              "      <th>X1_7</th>\n",
              "      <th>X1_8</th>\n",
              "      <th>X1_9</th>\n",
              "      <th>X1_10</th>\n",
              "      <th>X1_11</th>\n",
              "      <th>X1_12</th>\n",
              "      <th>X1_13</th>\n",
              "      <th>X1_14</th>\n",
              "      <th>X1_15</th>\n",
              "      <th>X1_16</th>\n",
              "      <th>X1_17</th>\n",
              "      <th>X1_18</th>\n",
              "      <th>X1_19</th>\n",
              "      <th>X2_0</th>\n",
              "      <th>X2_1</th>\n",
              "      <th>X2_2</th>\n",
              "      <th>X2_3</th>\n",
              "      <th>X2_4</th>\n",
              "      <th>X2_5</th>\n",
              "      <th>X2_6</th>\n",
              "      <th>X2_7</th>\n",
              "      <th>X2_8</th>\n",
              "      <th>X2_9</th>\n",
              "    </tr>\n",
              "  </thead>\n",
              "  <tbody>\n",
              "    <tr>\n",
              "      <th>count</th>\n",
              "      <td>26906.000000</td>\n",
              "      <td>26906.000000</td>\n",
              "      <td>18834.000000</td>\n",
              "      <td>18834.000000</td>\n",
              "      <td>26906.000000</td>\n",
              "      <td>26906.000000</td>\n",
              "      <td>26906.000000</td>\n",
              "      <td>26906.000000</td>\n",
              "      <td>26906.000000</td>\n",
              "      <td>26906.000000</td>\n",
              "      <td>26906.000000</td>\n",
              "      <td>26906.000000</td>\n",
              "      <td>26906.000000</td>\n",
              "      <td>26906.000000</td>\n",
              "      <td>26906.000000</td>\n",
              "      <td>26906.000000</td>\n",
              "      <td>26906.000000</td>\n",
              "      <td>26906.000000</td>\n",
              "      <td>26906.000000</td>\n",
              "      <td>26906.000000</td>\n",
              "      <td>26906.000000</td>\n",
              "      <td>26906.000000</td>\n",
              "      <td>26906.000000</td>\n",
              "      <td>26906.000000</td>\n",
              "      <td>26906.000000</td>\n",
              "      <td>26906.000000</td>\n",
              "      <td>26906.000000</td>\n",
              "      <td>26906.000000</td>\n",
              "      <td>26906.000000</td>\n",
              "      <td>26906.000000</td>\n",
              "      <td>26906.000000</td>\n",
              "      <td>26906.000000</td>\n",
              "      <td>26906.000000</td>\n",
              "      <td>26906.000000</td>\n",
              "      <td>26906.000000</td>\n",
              "      <td>26906.000000</td>\n",
              "      <td>26906.000000</td>\n",
              "      <td>26906.000000</td>\n",
              "      <td>26906.000000</td>\n",
              "      <td>26906.000000</td>\n",
              "      <td>26906.000000</td>\n",
              "      <td>26906.000000</td>\n",
              "      <td>26906.000000</td>\n",
              "      <td>26906.000000</td>\n",
              "      <td>26906.000000</td>\n",
              "    </tr>\n",
              "    <tr>\n",
              "      <th>mean</th>\n",
              "      <td>0.504024</td>\n",
              "      <td>27.449532</td>\n",
              "      <td>0.600563</td>\n",
              "      <td>1.709143</td>\n",
              "      <td>0.431946</td>\n",
              "      <td>0.414958</td>\n",
              "      <td>0.442973</td>\n",
              "      <td>0.241287</td>\n",
              "      <td>0.426799</td>\n",
              "      <td>0.444309</td>\n",
              "      <td>0.357262</td>\n",
              "      <td>0.100921</td>\n",
              "      <td>0.333234</td>\n",
              "      <td>0.440162</td>\n",
              "      <td>0.226604</td>\n",
              "      <td>0.572252</td>\n",
              "      <td>0.003085</td>\n",
              "      <td>0.001189</td>\n",
              "      <td>0.000037</td>\n",
              "      <td>0.000372</td>\n",
              "      <td>0.000186</td>\n",
              "      <td>0.000557</td>\n",
              "      <td>0.078458</td>\n",
              "      <td>0.002416</td>\n",
              "      <td>0.005352</td>\n",
              "      <td>0.000334</td>\n",
              "      <td>0.003085</td>\n",
              "      <td>0.003828</td>\n",
              "      <td>0.226269</td>\n",
              "      <td>0.000111</td>\n",
              "      <td>0.028804</td>\n",
              "      <td>0.031889</td>\n",
              "      <td>0.013640</td>\n",
              "      <td>0.028023</td>\n",
              "      <td>0.000111</td>\n",
              "      <td>0.000223</td>\n",
              "      <td>0.454620</td>\n",
              "      <td>0.009552</td>\n",
              "      <td>0.003754</td>\n",
              "      <td>0.065822</td>\n",
              "      <td>0.000632</td>\n",
              "      <td>0.000223</td>\n",
              "      <td>0.190292</td>\n",
              "      <td>0.003048</td>\n",
              "      <td>0.271835</td>\n",
              "    </tr>\n",
              "    <tr>\n",
              "      <th>std</th>\n",
              "      <td>0.288981</td>\n",
              "      <td>12.989061</td>\n",
              "      <td>0.629883</td>\n",
              "      <td>0.717919</td>\n",
              "      <td>0.390325</td>\n",
              "      <td>0.428217</td>\n",
              "      <td>0.394991</td>\n",
              "      <td>0.304895</td>\n",
              "      <td>0.360071</td>\n",
              "      <td>0.355610</td>\n",
              "      <td>0.349157</td>\n",
              "      <td>0.119051</td>\n",
              "      <td>0.471378</td>\n",
              "      <td>0.496416</td>\n",
              "      <td>0.418642</td>\n",
              "      <td>0.494761</td>\n",
              "      <td>0.055456</td>\n",
              "      <td>0.034467</td>\n",
              "      <td>0.006096</td>\n",
              "      <td>0.019275</td>\n",
              "      <td>0.013631</td>\n",
              "      <td>0.023605</td>\n",
              "      <td>0.268896</td>\n",
              "      <td>0.049092</td>\n",
              "      <td>0.072962</td>\n",
              "      <td>0.018287</td>\n",
              "      <td>0.055456</td>\n",
              "      <td>0.061755</td>\n",
              "      <td>0.418423</td>\n",
              "      <td>0.010559</td>\n",
              "      <td>0.167258</td>\n",
              "      <td>0.175707</td>\n",
              "      <td>0.115994</td>\n",
              "      <td>0.165043</td>\n",
              "      <td>0.010559</td>\n",
              "      <td>0.014932</td>\n",
              "      <td>0.497946</td>\n",
              "      <td>0.097267</td>\n",
              "      <td>0.061154</td>\n",
              "      <td>0.247975</td>\n",
              "      <td>0.025129</td>\n",
              "      <td>0.014932</td>\n",
              "      <td>0.392539</td>\n",
              "      <td>0.055122</td>\n",
              "      <td>0.444914</td>\n",
              "    </tr>\n",
              "    <tr>\n",
              "      <th>min</th>\n",
              "      <td>0.000000</td>\n",
              "      <td>5.000000</td>\n",
              "      <td>0.000000</td>\n",
              "      <td>0.000000</td>\n",
              "      <td>0.000000</td>\n",
              "      <td>0.000000</td>\n",
              "      <td>0.000000</td>\n",
              "      <td>0.000000</td>\n",
              "      <td>0.000000</td>\n",
              "      <td>0.000000</td>\n",
              "      <td>0.000000</td>\n",
              "      <td>0.000000</td>\n",
              "      <td>0.000000</td>\n",
              "      <td>0.000000</td>\n",
              "      <td>0.000000</td>\n",
              "      <td>0.000000</td>\n",
              "      <td>0.000000</td>\n",
              "      <td>0.000000</td>\n",
              "      <td>0.000000</td>\n",
              "      <td>0.000000</td>\n",
              "      <td>0.000000</td>\n",
              "      <td>0.000000</td>\n",
              "      <td>0.000000</td>\n",
              "      <td>0.000000</td>\n",
              "      <td>0.000000</td>\n",
              "      <td>0.000000</td>\n",
              "      <td>0.000000</td>\n",
              "      <td>0.000000</td>\n",
              "      <td>0.000000</td>\n",
              "      <td>0.000000</td>\n",
              "      <td>0.000000</td>\n",
              "      <td>0.000000</td>\n",
              "      <td>0.000000</td>\n",
              "      <td>0.000000</td>\n",
              "      <td>0.000000</td>\n",
              "      <td>0.000000</td>\n",
              "      <td>0.000000</td>\n",
              "      <td>0.000000</td>\n",
              "      <td>0.000000</td>\n",
              "      <td>0.000000</td>\n",
              "      <td>0.000000</td>\n",
              "      <td>0.000000</td>\n",
              "      <td>0.000000</td>\n",
              "      <td>0.000000</td>\n",
              "      <td>0.000000</td>\n",
              "    </tr>\n",
              "    <tr>\n",
              "      <th>25%</th>\n",
              "      <td>0.250000</td>\n",
              "      <td>16.210000</td>\n",
              "      <td>0.000000</td>\n",
              "      <td>1.000000</td>\n",
              "      <td>0.000000</td>\n",
              "      <td>0.007113</td>\n",
              "      <td>0.009066</td>\n",
              "      <td>0.002299</td>\n",
              "      <td>0.106886</td>\n",
              "      <td>0.116580</td>\n",
              "      <td>0.037037</td>\n",
              "      <td>0.021225</td>\n",
              "      <td>0.000000</td>\n",
              "      <td>0.000000</td>\n",
              "      <td>0.000000</td>\n",
              "      <td>0.000000</td>\n",
              "      <td>0.000000</td>\n",
              "      <td>0.000000</td>\n",
              "      <td>0.000000</td>\n",
              "      <td>0.000000</td>\n",
              "      <td>0.000000</td>\n",
              "      <td>0.000000</td>\n",
              "      <td>0.000000</td>\n",
              "      <td>0.000000</td>\n",
              "      <td>0.000000</td>\n",
              "      <td>0.000000</td>\n",
              "      <td>0.000000</td>\n",
              "      <td>0.000000</td>\n",
              "      <td>0.000000</td>\n",
              "      <td>0.000000</td>\n",
              "      <td>0.000000</td>\n",
              "      <td>0.000000</td>\n",
              "      <td>0.000000</td>\n",
              "      <td>0.000000</td>\n",
              "      <td>0.000000</td>\n",
              "      <td>0.000000</td>\n",
              "      <td>0.000000</td>\n",
              "      <td>0.000000</td>\n",
              "      <td>0.000000</td>\n",
              "      <td>0.000000</td>\n",
              "      <td>0.000000</td>\n",
              "      <td>0.000000</td>\n",
              "      <td>0.000000</td>\n",
              "      <td>0.000000</td>\n",
              "      <td>0.000000</td>\n",
              "    </tr>\n",
              "    <tr>\n",
              "      <th>50%</th>\n",
              "      <td>0.500000</td>\n",
              "      <td>27.360000</td>\n",
              "      <td>1.000000</td>\n",
              "      <td>2.000000</td>\n",
              "      <td>0.444444</td>\n",
              "      <td>0.256669</td>\n",
              "      <td>0.488645</td>\n",
              "      <td>0.101149</td>\n",
              "      <td>0.321082</td>\n",
              "      <td>0.329534</td>\n",
              "      <td>0.192130</td>\n",
              "      <td>0.050717</td>\n",
              "      <td>0.000000</td>\n",
              "      <td>0.000000</td>\n",
              "      <td>0.000000</td>\n",
              "      <td>1.000000</td>\n",
              "      <td>0.000000</td>\n",
              "      <td>0.000000</td>\n",
              "      <td>0.000000</td>\n",
              "      <td>0.000000</td>\n",
              "      <td>0.000000</td>\n",
              "      <td>0.000000</td>\n",
              "      <td>0.000000</td>\n",
              "      <td>0.000000</td>\n",
              "      <td>0.000000</td>\n",
              "      <td>0.000000</td>\n",
              "      <td>0.000000</td>\n",
              "      <td>0.000000</td>\n",
              "      <td>0.000000</td>\n",
              "      <td>0.000000</td>\n",
              "      <td>0.000000</td>\n",
              "      <td>0.000000</td>\n",
              "      <td>0.000000</td>\n",
              "      <td>0.000000</td>\n",
              "      <td>0.000000</td>\n",
              "      <td>0.000000</td>\n",
              "      <td>0.000000</td>\n",
              "      <td>0.000000</td>\n",
              "      <td>0.000000</td>\n",
              "      <td>0.000000</td>\n",
              "      <td>0.000000</td>\n",
              "      <td>0.000000</td>\n",
              "      <td>0.000000</td>\n",
              "      <td>0.000000</td>\n",
              "      <td>0.000000</td>\n",
              "    </tr>\n",
              "    <tr>\n",
              "      <th>75%</th>\n",
              "      <td>0.760000</td>\n",
              "      <td>38.780000</td>\n",
              "      <td>1.000000</td>\n",
              "      <td>2.000000</td>\n",
              "      <td>0.888889</td>\n",
              "      <td>0.996443</td>\n",
              "      <td>0.702198</td>\n",
              "      <td>0.443678</td>\n",
              "      <td>0.531897</td>\n",
              "      <td>0.575648</td>\n",
              "      <td>0.747685</td>\n",
              "      <td>0.129159</td>\n",
              "      <td>1.000000</td>\n",
              "      <td>1.000000</td>\n",
              "      <td>0.000000</td>\n",
              "      <td>1.000000</td>\n",
              "      <td>0.000000</td>\n",
              "      <td>0.000000</td>\n",
              "      <td>0.000000</td>\n",
              "      <td>0.000000</td>\n",
              "      <td>0.000000</td>\n",
              "      <td>0.000000</td>\n",
              "      <td>0.000000</td>\n",
              "      <td>0.000000</td>\n",
              "      <td>0.000000</td>\n",
              "      <td>0.000000</td>\n",
              "      <td>0.000000</td>\n",
              "      <td>0.000000</td>\n",
              "      <td>0.000000</td>\n",
              "      <td>0.000000</td>\n",
              "      <td>0.000000</td>\n",
              "      <td>0.000000</td>\n",
              "      <td>0.000000</td>\n",
              "      <td>0.000000</td>\n",
              "      <td>0.000000</td>\n",
              "      <td>0.000000</td>\n",
              "      <td>1.000000</td>\n",
              "      <td>0.000000</td>\n",
              "      <td>0.000000</td>\n",
              "      <td>0.000000</td>\n",
              "      <td>0.000000</td>\n",
              "      <td>0.000000</td>\n",
              "      <td>0.000000</td>\n",
              "      <td>0.000000</td>\n",
              "      <td>1.000000</td>\n",
              "    </tr>\n",
              "    <tr>\n",
              "      <th>max</th>\n",
              "      <td>1.000000</td>\n",
              "      <td>50.000000</td>\n",
              "      <td>2.000000</td>\n",
              "      <td>4.000000</td>\n",
              "      <td>1.000000</td>\n",
              "      <td>1.000000</td>\n",
              "      <td>1.000000</td>\n",
              "      <td>1.000000</td>\n",
              "      <td>1.000000</td>\n",
              "      <td>1.000000</td>\n",
              "      <td>1.000000</td>\n",
              "      <td>1.000000</td>\n",
              "      <td>1.000000</td>\n",
              "      <td>1.000000</td>\n",
              "      <td>1.000000</td>\n",
              "      <td>1.000000</td>\n",
              "      <td>1.000000</td>\n",
              "      <td>1.000000</td>\n",
              "      <td>1.000000</td>\n",
              "      <td>1.000000</td>\n",
              "      <td>1.000000</td>\n",
              "      <td>1.000000</td>\n",
              "      <td>1.000000</td>\n",
              "      <td>1.000000</td>\n",
              "      <td>1.000000</td>\n",
              "      <td>1.000000</td>\n",
              "      <td>1.000000</td>\n",
              "      <td>1.000000</td>\n",
              "      <td>1.000000</td>\n",
              "      <td>1.000000</td>\n",
              "      <td>1.000000</td>\n",
              "      <td>1.000000</td>\n",
              "      <td>1.000000</td>\n",
              "      <td>1.000000</td>\n",
              "      <td>1.000000</td>\n",
              "      <td>1.000000</td>\n",
              "      <td>1.000000</td>\n",
              "      <td>1.000000</td>\n",
              "      <td>1.000000</td>\n",
              "      <td>1.000000</td>\n",
              "      <td>1.000000</td>\n",
              "      <td>1.000000</td>\n",
              "      <td>1.000000</td>\n",
              "      <td>1.000000</td>\n",
              "      <td>1.000000</td>\n",
              "    </tr>\n",
              "  </tbody>\n",
              "</table>\n",
              "</div>"
            ],
            "text/plain": [
              "          length(m)    height(cm)  ...          X2_8          X2_9\n",
              "count  26906.000000  26906.000000  ...  26906.000000  26906.000000\n",
              "mean       0.504024     27.449532  ...      0.003048      0.271835\n",
              "std        0.288981     12.989061  ...      0.055122      0.444914\n",
              "min        0.000000      5.000000  ...      0.000000      0.000000\n",
              "25%        0.250000     16.210000  ...      0.000000      0.000000\n",
              "50%        0.500000     27.360000  ...      0.000000      0.000000\n",
              "75%        0.760000     38.780000  ...      0.000000      1.000000\n",
              "max        1.000000     50.000000  ...      1.000000      1.000000\n",
              "\n",
              "[8 rows x 45 columns]"
            ]
          },
          "metadata": {
            "tags": []
          },
          "execution_count": 201
        }
      ]
    },
    {
      "cell_type": "code",
      "metadata": {
        "id": "knicR0vzya3p",
        "colab_type": "code",
        "colab": {}
      },
      "source": [
        "total_df[total_df.isnull().any(axis=1)]"
      ],
      "execution_count": null,
      "outputs": []
    },
    {
      "cell_type": "code",
      "metadata": {
        "id": "UCtf2FjrHzps",
        "colab_type": "code",
        "colab": {}
      },
      "source": [
        "total_df['pet_physical_size'] = total_df['length(m)'] * total_df['height(cm)']\n",
        "from sklearn.preprocessing import MinMaxScaler\n",
        "scaler = MinMaxScaler(feature_range=(0,1))\n",
        "total_df['pet_physical_size'] = scaler.fit_transform(total_df[['pet_physical_size']])"
      ],
      "execution_count": null,
      "outputs": []
    },
    {
      "cell_type": "code",
      "metadata": {
        "id": "uta5m7TQ014Z",
        "colab_type": "code",
        "colab": {}
      },
      "source": [
        "total_df['height(cm)'] = scaler.fit_transform(total_df[['height(cm)']])"
      ],
      "execution_count": null,
      "outputs": []
    },
    {
      "cell_type": "code",
      "metadata": {
        "id": "xj83Ddaz_k8_",
        "colab_type": "code",
        "colab": {}
      },
      "source": [
        "train_final = total_df.iloc[:18834]\n",
        "test_final = total_df.iloc[18834:]"
      ],
      "execution_count": null,
      "outputs": []
    },
    {
      "cell_type": "code",
      "metadata": {
        "id": "TYbEpAiQuvj7",
        "colab_type": "code",
        "colab": {}
      },
      "source": [
        "train.head()"
      ],
      "execution_count": null,
      "outputs": []
    },
    {
      "cell_type": "code",
      "metadata": {
        "id": "e5R2sFH3uiXI",
        "colab_type": "code",
        "colab": {}
      },
      "source": [
        "train_final.head()"
      ],
      "execution_count": null,
      "outputs": []
    },
    {
      "cell_type": "markdown",
      "metadata": {
        "id": "eriBQ0ox_-Lm",
        "colab_type": "text"
      },
      "source": [
        "when score is calculated"
      ]
    },
    {
      "cell_type": "code",
      "metadata": {
        "id": "R2fRhLg6yOhH",
        "colab_type": "code",
        "colab": {}
      },
      "source": [
        "x_train_breed = train_final.drop(['color_type','breed_category','pet_category','pet_category0_score','pet_category1_score', 'pet_category2_score', 'pet_category4_score'], axis=1)\n",
        "x_train_pet = train_final.drop(['color_type','breed_category','pet_category','breed_category0_score', 'breed_category1_score', 'breed_category2_score'], axis=1)\n",
        "y_train_breed = train_final['breed_category']\n",
        "y_train_pet = train_final['pet_category']\n",
        "\n",
        "x_test_breed = test_final.drop(['color_type','breed_category','pet_category', 'pet_category0_score','pet_category1_score', 'pet_category2_score', 'pet_category4_score'], axis=1)\n",
        "x_test_pet = test_final.drop(['color_type','breed_category','pet_category','breed_category0_score', 'breed_category1_score', 'breed_category2_score'], axis=1)"
      ],
      "execution_count": null,
      "outputs": []
    },
    {
      "cell_type": "code",
      "metadata": {
        "id": "2QuRhmf_xHGh",
        "colab_type": "code",
        "colab": {}
      },
      "source": [
        "x_train_breed = x_train_breed.drop(['pet_id','issue_date','listing_date'], axis=1)\n",
        "x_train_pet = x_train_pet.drop(['pet_id','issue_date','listing_date'], axis=1)\n",
        "x_test_breed = x_test_breed.drop(['pet_id','issue_date','listing_date'], axis=1)\n",
        "x_test_pet = x_test_pet.drop(['pet_id','issue_date','listing_date'], axis=1)"
      ],
      "execution_count": null,
      "outputs": []
    },
    {
      "cell_type": "markdown",
      "metadata": {
        "id": "TqHv180yAHDv",
        "colab_type": "text"
      },
      "source": [
        "with breed_category in training for pet_category"
      ]
    },
    {
      "cell_type": "code",
      "metadata": {
        "id": "uZLmphTtAMdm",
        "colab_type": "code",
        "colab": {}
      },
      "source": [
        "x_train_breed = train_final.drop(['pet_id','issue_date','listing_date','pet_category','breed_category'], axis=1)\n",
        "x_train_pet = train_final.drop(['pet_id','issue_date','listing_date','pet_category'], axis=1)\n",
        "y_train_breed = train_final['breed_category']\n",
        "y_train_pet = train_final['pet_category']\n",
        "\n",
        "x_test_breed = test_final.drop(['pet_id','issue_date','listing_date','pet_category','breed_category'], axis=1)\n",
        "x_test_pet = test_final.drop(['pet_id','issue_date','listing_date','pet_category'], axis=1)"
      ],
      "execution_count": null,
      "outputs": []
    },
    {
      "cell_type": "code",
      "metadata": {
        "id": "rN_GtaTND7gS",
        "colab_type": "code",
        "colab": {}
      },
      "source": [
        "x_train_breed = train_final.drop(['pet_id','issue_date','listing_date','breed_category'], axis=1)\n",
        "x_train_pet = train_final.drop(['pet_id','issue_date','listing_date','pet_category','breed_category'], axis=1)\n",
        "y_train_breed = train_final['breed_category']\n",
        "y_train_pet = train_final['pet_category']\n",
        "\n",
        "x_test_breed = test_final.drop(['pet_id','issue_date','listing_date','breed_category'], axis=1)\n",
        "x_test_pet = test_final.drop(['pet_id','issue_date','listing_date','pet_category','breed_category'], axis=1)"
      ],
      "execution_count": null,
      "outputs": []
    },
    {
      "cell_type": "code",
      "metadata": {
        "id": "J4U7OwrMAba4",
        "colab_type": "code",
        "colab": {
          "base_uri": "https://localhost:8080/",
          "height": 34
        },
        "outputId": "7ff964cb-2b36-4af4-d2cc-38ae262bbb34"
      },
      "source": [
        "x_train_breed.shape, y_train_breed.shape, x_test_breed.shape, x_train_pet.shape, y_train_pet.shape, x_test_pet.shape"
      ],
      "execution_count": null,
      "outputs": [
        {
          "output_type": "execute_result",
          "data": {
            "text/plain": [
              "((18834, 94), (18834,), (8072, 94), (18834, 93), (18834,), (8072, 93))"
            ]
          },
          "metadata": {
            "tags": []
          },
          "execution_count": 60
        }
      ]
    },
    {
      "cell_type": "markdown",
      "metadata": {
        "id": "LgikovQzAAHI",
        "colab_type": "text"
      },
      "source": [
        "no score calculated"
      ]
    },
    {
      "cell_type": "code",
      "metadata": {
        "id": "1ilJN-i4_trh",
        "colab_type": "code",
        "colab": {}
      },
      "source": [
        "x_train = train_final.drop(['breed_category','pet_category'], axis=1)\n",
        "y_train_breed = train_final['breed_category']\n",
        "y_train_pet = train_final['pet_category']\n",
        "x_test = test_final.drop(['breed_category','pet_category'], axis=1)"
      ],
      "execution_count": null,
      "outputs": []
    },
    {
      "cell_type": "code",
      "metadata": {
        "id": "xtQn-llWBKBH",
        "colab_type": "code",
        "colab": {}
      },
      "source": [
        "x_train = x_train.drop(['pet_id','issue_date','listing_date'], axis=1)\n",
        "x_test = x_test.drop(['pet_id','issue_date','listing_date'], axis=1)"
      ],
      "execution_count": null,
      "outputs": []
    },
    {
      "cell_type": "code",
      "metadata": {
        "id": "cKwMKftPMdgl",
        "colab_type": "code",
        "colab": {
          "base_uri": "https://localhost:8080/",
          "height": 34
        },
        "outputId": "3f543aa8-6484-49ca-9ab1-38d87399e746"
      },
      "source": [
        "x_train.shape, y_train_breed.shape, y_train_pet.shape, x_test.shape"
      ],
      "execution_count": null,
      "outputs": [
        {
          "output_type": "execute_result",
          "data": {
            "text/plain": [
              "((18834, 95), (18834,), (18834,), (8072, 95))"
            ]
          },
          "metadata": {
            "tags": []
          },
          "execution_count": 20
        }
      ]
    },
    {
      "cell_type": "code",
      "metadata": {
        "id": "-mO0buSfBy4G",
        "colab_type": "code",
        "colab": {}
      },
      "source": [
        "x_test_pet.isnull().sum()"
      ],
      "execution_count": null,
      "outputs": []
    },
    {
      "cell_type": "code",
      "metadata": {
        "id": "BG1fJS1gyG1i",
        "colab_type": "code",
        "colab": {}
      },
      "source": [
        "x_train.describe()"
      ],
      "execution_count": null,
      "outputs": []
    },
    {
      "cell_type": "code",
      "metadata": {
        "id": "QX6cG_nLx9xw",
        "colab_type": "code",
        "colab": {
          "base_uri": "https://localhost:8080/",
          "height": 34
        },
        "outputId": "6d0b1a63-118c-4815-da54-41c43f190ea7"
      },
      "source": [
        "x_test.isnull().sum().any()"
      ],
      "execution_count": null,
      "outputs": [
        {
          "output_type": "execute_result",
          "data": {
            "text/plain": [
              "True"
            ]
          },
          "metadata": {
            "tags": []
          },
          "execution_count": 46
        }
      ]
    },
    {
      "cell_type": "code",
      "metadata": {
        "id": "8AlHCsM2AmMC",
        "colab_type": "code",
        "colab": {}
      },
      "source": [
        "x_test = x_test[x_train.columns]"
      ],
      "execution_count": null,
      "outputs": []
    },
    {
      "cell_type": "code",
      "metadata": {
        "id": "sLDqjo22CngN",
        "colab_type": "code",
        "colab": {
          "base_uri": "https://localhost:8080/",
          "height": 119
        },
        "outputId": "75bc5903-a3cf-4471-e628-37e44ce377e8"
      },
      "source": [
        "from sklearn.tree import DecisionTreeClassifier\n",
        "model_breed = DecisionTreeClassifier()\n",
        "model_breed.fit(x_train, y_train_breed)\n",
        "\n",
        "model_pet = DecisionTreeClassifier()\n",
        "model_pet.fit(x_train, y_train_pet)"
      ],
      "execution_count": null,
      "outputs": [
        {
          "output_type": "execute_result",
          "data": {
            "text/plain": [
              "DecisionTreeClassifier(ccp_alpha=0.0, class_weight=None, criterion='gini',\n",
              "                       max_depth=None, max_features=None, max_leaf_nodes=None,\n",
              "                       min_impurity_decrease=0.0, min_impurity_split=None,\n",
              "                       min_samples_leaf=1, min_samples_split=2,\n",
              "                       min_weight_fraction_leaf=0.0, presort='deprecated',\n",
              "                       random_state=None, splitter='best')"
            ]
          },
          "metadata": {
            "tags": []
          },
          "execution_count": 74
        }
      ]
    },
    {
      "cell_type": "code",
      "metadata": {
        "id": "M4PU8z8zDVnV",
        "colab_type": "code",
        "colab": {
          "base_uri": "https://localhost:8080/",
          "height": 136
        },
        "outputId": "8522dfd9-08db-4f88-85eb-673ebc849296"
      },
      "source": [
        "from xgboost import XGBClassifier\n",
        "model_breed = XGBClassifier()\n",
        "model_breed.fit(x_train, y_train_breed)\n",
        "\n",
        "model_pet = XGBClassifier()\n",
        "model_pet.fit(x_train, y_train_pet)"
      ],
      "execution_count": null,
      "outputs": [
        {
          "output_type": "execute_result",
          "data": {
            "text/plain": [
              "XGBClassifier(base_score=0.5, booster='gbtree', colsample_bylevel=1,\n",
              "              colsample_bynode=1, colsample_bytree=1, gamma=0,\n",
              "              learning_rate=0.1, max_delta_step=0, max_depth=3,\n",
              "              min_child_weight=1, missing=None, n_estimators=100, n_jobs=1,\n",
              "              nthread=None, objective='multi:softprob', random_state=0,\n",
              "              reg_alpha=0, reg_lambda=1, scale_pos_weight=1, seed=None,\n",
              "              silent=None, subsample=1, verbosity=1)"
            ]
          },
          "metadata": {
            "tags": []
          },
          "execution_count": 33
        }
      ]
    },
    {
      "cell_type": "code",
      "metadata": {
        "id": "c1_dVTKFEG_a",
        "colab_type": "code",
        "colab": {
          "base_uri": "https://localhost:8080/",
          "height": 102
        },
        "outputId": "c9a1b750-a0a0-42c8-85b8-1af3949ff7ac"
      },
      "source": [
        "from sklearn.linear_model import LogisticRegression\n",
        "model_breed = LogisticRegression(max_iter=10000)\n",
        "model_breed.fit(x_train, y_train_breed)\n",
        "\n",
        "model_pet = LogisticRegression(max_iter=10000)\n",
        "model_pet.fit(x_train, y_train_pet)"
      ],
      "execution_count": null,
      "outputs": [
        {
          "output_type": "execute_result",
          "data": {
            "text/plain": [
              "LogisticRegression(C=1.0, class_weight=None, dual=False, fit_intercept=True,\n",
              "                   intercept_scaling=1, l1_ratio=None, max_iter=10000,\n",
              "                   multi_class='auto', n_jobs=None, penalty='l2',\n",
              "                   random_state=None, solver='lbfgs', tol=0.0001, verbose=0,\n",
              "                   warm_start=False)"
            ]
          },
          "metadata": {
            "tags": []
          },
          "execution_count": 89
        }
      ]
    },
    {
      "cell_type": "code",
      "metadata": {
        "id": "b5k3qPlcVHB8",
        "colab_type": "code",
        "colab": {
          "base_uri": "https://localhost:8080/",
          "height": 241
        },
        "outputId": "47b768d1-4568-4772-a2a7-153d6a86754e"
      },
      "source": [
        "from sklearn.neural_network import MLPClassifier\n",
        "model_breed = MLPClassifier()\n",
        "model_breed.fit(x_train, y_train_breed)\n",
        "\n",
        "model_pet = MLPClassifier()\n",
        "model_pet.fit(x_train, y_train_pet)"
      ],
      "execution_count": null,
      "outputs": [
        {
          "output_type": "stream",
          "text": [
            "/usr/local/lib/python3.6/dist-packages/sklearn/neural_network/_multilayer_perceptron.py:571: ConvergenceWarning: Stochastic Optimizer: Maximum iterations (200) reached and the optimization hasn't converged yet.\n",
            "  % self.max_iter, ConvergenceWarning)\n",
            "/usr/local/lib/python3.6/dist-packages/sklearn/neural_network/_multilayer_perceptron.py:571: ConvergenceWarning: Stochastic Optimizer: Maximum iterations (200) reached and the optimization hasn't converged yet.\n",
            "  % self.max_iter, ConvergenceWarning)\n"
          ],
          "name": "stderr"
        },
        {
          "output_type": "execute_result",
          "data": {
            "text/plain": [
              "MLPClassifier(activation='relu', alpha=0.0001, batch_size='auto', beta_1=0.9,\n",
              "              beta_2=0.999, early_stopping=False, epsilon=1e-08,\n",
              "              hidden_layer_sizes=(100,), learning_rate='constant',\n",
              "              learning_rate_init=0.001, max_fun=15000, max_iter=200,\n",
              "              momentum=0.9, n_iter_no_change=10, nesterovs_momentum=True,\n",
              "              power_t=0.5, random_state=None, shuffle=True, solver='adam',\n",
              "              tol=0.0001, validation_fraction=0.1, verbose=False,\n",
              "              warm_start=False)"
            ]
          },
          "metadata": {
            "tags": []
          },
          "execution_count": 160
        }
      ]
    },
    {
      "cell_type": "code",
      "metadata": {
        "id": "N_ulnWZCVVmd",
        "colab_type": "code",
        "colab": {
          "base_uri": "https://localhost:8080/",
          "height": 85
        },
        "outputId": "fc7d9d7e-3717-497c-a2ec-3da53c47739b"
      },
      "source": [
        "from sklearn.svm import SVC\n",
        "model_breed = SVC()\n",
        "model_breed.fit(x_train, y_train_breed)\n",
        "\n",
        "model_pet = SVC()\n",
        "model_pet.fit(x_train, y_train_pet)"
      ],
      "execution_count": null,
      "outputs": [
        {
          "output_type": "execute_result",
          "data": {
            "text/plain": [
              "SVC(C=1.0, break_ties=False, cache_size=200, class_weight=None, coef0=0.0,\n",
              "    decision_function_shape='ovr', degree=3, gamma='scale', kernel='rbf',\n",
              "    max_iter=-1, probability=False, random_state=None, shrinking=True,\n",
              "    tol=0.001, verbose=False)"
            ]
          },
          "metadata": {
            "tags": []
          },
          "execution_count": 37
        }
      ]
    },
    {
      "cell_type": "code",
      "metadata": {
        "id": "SQ5iW8u1QKk_",
        "colab_type": "code",
        "colab": {
          "base_uri": "https://localhost:8080/",
          "height": 119
        },
        "outputId": "307de1fc-fba0-4fd2-f9b5-22b8715c4965"
      },
      "source": [
        "from lightgbm import LGBMClassifier\n",
        "model_breed = LGBMClassifier()\n",
        "model_breed.fit(x_train, y_train_breed)\n",
        "\n",
        "model_pet = LGBMClassifier()\n",
        "model_pet.fit(x_train, y_train_pet)"
      ],
      "execution_count": null,
      "outputs": [
        {
          "output_type": "execute_result",
          "data": {
            "text/plain": [
              "LGBMClassifier(boosting_type='gbdt', class_weight=None, colsample_bytree=1.0,\n",
              "               importance_type='split', learning_rate=0.1, max_depth=-1,\n",
              "               min_child_samples=20, min_child_weight=0.001, min_split_gain=0.0,\n",
              "               n_estimators=100, n_jobs=-1, num_leaves=31, objective=None,\n",
              "               random_state=None, reg_alpha=0.0, reg_lambda=0.0, silent=True,\n",
              "               subsample=1.0, subsample_for_bin=200000, subsample_freq=0)"
            ]
          },
          "metadata": {
            "tags": []
          },
          "execution_count": 29
        }
      ]
    },
    {
      "cell_type": "code",
      "metadata": {
        "id": "Ab5Z4U16AE4F",
        "colab_type": "code",
        "colab": {
          "base_uri": "https://localhost:8080/",
          "height": 153
        },
        "outputId": "a1688c11-a2b0-4de1-eca7-b9f63efd88e2"
      },
      "source": [
        "from sklearn.ensemble import RandomForestClassifier\n",
        "model_breed = RandomForestClassifier()\n",
        "model_breed.fit(x_train, y_train_breed)\n",
        "\n",
        "model_pet = RandomForestClassifier()\n",
        "model_pet.fit(x_train, y_train_pet)"
      ],
      "execution_count": null,
      "outputs": [
        {
          "output_type": "execute_result",
          "data": {
            "text/plain": [
              "RandomForestClassifier(bootstrap=True, ccp_alpha=0.0, class_weight=None,\n",
              "                       criterion='gini', max_depth=None, max_features='auto',\n",
              "                       max_leaf_nodes=None, max_samples=None,\n",
              "                       min_impurity_decrease=0.0, min_impurity_split=None,\n",
              "                       min_samples_leaf=1, min_samples_split=2,\n",
              "                       min_weight_fraction_leaf=0.0, n_estimators=100,\n",
              "                       n_jobs=None, oob_score=False, random_state=None,\n",
              "                       verbose=0, warm_start=False)"
            ]
          },
          "metadata": {
            "tags": []
          },
          "execution_count": 21
        }
      ]
    },
    {
      "cell_type": "code",
      "metadata": {
        "id": "4QmfJrGoqu70",
        "colab_type": "code",
        "colab": {
          "base_uri": "https://localhost:8080/",
          "height": 646
        },
        "outputId": "ae0ddc49-2a60-446d-92e5-fc5ade56207a"
      },
      "source": [
        "boosting_type = ['gbdt','dart','goss','rf']\n",
        "learning_rate = [0.1, 0.01, 0.001]\n",
        "n_estimators = [50, 100, 150, 200, 300, 500, 700]\n",
        "min_child_samples = [10, 20, 30, 50]\n",
        "num_leaves = [25, 31, 45, 57]\n",
        "min_child_weight = [0.001, 0.01, 0.0001]\n",
        "\n",
        "hyperparameter_grid = {\n",
        "    'boosting_type' : boosting_type,\n",
        "    'learning_rate' : learning_rate,\n",
        "    'n_estimators' : n_estimators,\n",
        "    'min_child_samples' : min_child_samples,\n",
        "    'num_leaves' : num_leaves,\n",
        "    'min_child_weight' : min_child_weight\n",
        "}\n",
        "\n",
        "from lightgbm import LGBMClassifier\n",
        "classifier = LGBMClassifier()\n",
        "\n",
        "from sklearn.model_selection import RandomizedSearchCV\n",
        "random_cv_breed = RandomizedSearchCV(estimator=classifier,\n",
        "            param_distributions=hyperparameter_grid,\n",
        "            cv=5, n_iter=50,\n",
        "            scoring = 'neg_mean_absolute_error',n_jobs = 2,\n",
        "            verbose = 5, \n",
        "            return_train_score = True,\n",
        "            random_state=42)\n",
        "\n",
        "random_cv_pet = RandomizedSearchCV(estimator=classifier,\n",
        "            param_distributions=hyperparameter_grid,\n",
        "            cv=5, n_iter=50,\n",
        "            scoring = 'neg_mean_absolute_error',n_jobs = 2,\n",
        "            verbose = 5, \n",
        "            return_train_score = True,\n",
        "            random_state=42)\n",
        "\n",
        "random_cv_breed.fit(x_train, y_train_breed)\n",
        "random_cv_pet.fit(x_train, y_train_pet)"
      ],
      "execution_count": null,
      "outputs": [
        {
          "output_type": "stream",
          "text": [
            "Fitting 5 folds for each of 50 candidates, totalling 250 fits\n"
          ],
          "name": "stdout"
        },
        {
          "output_type": "stream",
          "text": [
            "[Parallel(n_jobs=2)]: Using backend LokyBackend with 2 concurrent workers.\n",
            "[Parallel(n_jobs=2)]: Done  14 tasks      | elapsed:  1.3min\n",
            "[Parallel(n_jobs=2)]: Done  68 tasks      | elapsed:  5.3min\n",
            "[Parallel(n_jobs=2)]: Done 158 tasks      | elapsed: 11.4min\n",
            "[Parallel(n_jobs=2)]: Done 250 out of 250 | elapsed: 21.2min finished\n"
          ],
          "name": "stderr"
        },
        {
          "output_type": "stream",
          "text": [
            "Fitting 5 folds for each of 50 candidates, totalling 250 fits\n"
          ],
          "name": "stdout"
        },
        {
          "output_type": "stream",
          "text": [
            "[Parallel(n_jobs=2)]: Using backend LokyBackend with 2 concurrent workers.\n",
            "[Parallel(n_jobs=2)]: Done  14 tasks      | elapsed:  2.7min\n",
            "[Parallel(n_jobs=2)]: Done  68 tasks      | elapsed: 10.7min\n",
            "[Parallel(n_jobs=2)]: Done 158 tasks      | elapsed: 23.6min\n",
            "[Parallel(n_jobs=2)]: Done 250 out of 250 | elapsed: 45.4min finished\n"
          ],
          "name": "stderr"
        },
        {
          "output_type": "execute_result",
          "data": {
            "text/plain": [
              "RandomizedSearchCV(cv=5, error_score=nan,\n",
              "                   estimator=LGBMClassifier(boosting_type='gbdt',\n",
              "                                            class_weight=None,\n",
              "                                            colsample_bytree=1.0,\n",
              "                                            importance_type='split',\n",
              "                                            learning_rate=0.1, max_depth=-1,\n",
              "                                            min_child_samples=20,\n",
              "                                            min_child_weight=0.001,\n",
              "                                            min_split_gain=0.0,\n",
              "                                            n_estimators=100, n_jobs=-1,\n",
              "                                            num_leaves=31, objective=None,\n",
              "                                            random_state=None, reg_alpha=0.0,\n",
              "                                            reg_lambda=0.0, sile...\n",
              "                   param_distributions={'boosting_type': ['gbdt', 'dart',\n",
              "                                                          'goss', 'rf'],\n",
              "                                        'learning_rate': [0.1, 0.01, 0.001],\n",
              "                                        'min_child_samples': [10, 20, 30, 50],\n",
              "                                        'min_child_weight': [0.001, 0.01,\n",
              "                                                             0.0001],\n",
              "                                        'n_estimators': [50, 100, 150, 200, 300,\n",
              "                                                         500, 700],\n",
              "                                        'num_leaves': [25, 31, 45, 57]},\n",
              "                   pre_dispatch='2*n_jobs', random_state=42, refit=True,\n",
              "                   return_train_score=True, scoring='neg_mean_absolute_error',\n",
              "                   verbose=5)"
            ]
          },
          "metadata": {
            "tags": []
          },
          "execution_count": 41
        }
      ]
    },
    {
      "cell_type": "code",
      "metadata": {
        "id": "Jx8E2GnCL_6X",
        "colab_type": "code",
        "colab": {
          "base_uri": "https://localhost:8080/",
          "height": 714
        },
        "outputId": "9d05af71-d8e9-4d54-ef70-007bcc449678"
      },
      "source": [
        "n_estimators = [50, 100, 200, 300, 500]\n",
        "bootstrap = [True, False]\n",
        "max_depth = [5, 8, 15, 25, 30]\n",
        "criterion = ['gini','entropy']\n",
        "min_samples_split = [2, 5, 10, 15, 100]\n",
        "min_samples_leaf = [1, 2, 5, 10]\n",
        "max_features = ['auto', 'sqrt', 'log2']\n",
        "\n",
        "hyperparameter_grid = {\n",
        "    'n_estimators' : n_estimators,\n",
        "    'bootstrap' : bootstrap,\n",
        "    'max_depth' : max_depth,\n",
        "    'criterion' : criterion,\n",
        "    'min_samples_split' : min_samples_split,\n",
        "    'min_samples_leaf' : min_samples_leaf,\n",
        "    'max_features' : max_features\n",
        "}\n",
        "\n",
        "from sklearn.ensemble import RandomForestClassifier\n",
        "classifier = RandomForestClassifier()\n",
        "\n",
        "from sklearn.model_selection import RandomizedSearchCV\n",
        "random_cv_breed = RandomizedSearchCV(estimator=classifier,\n",
        "            param_distributions=hyperparameter_grid,\n",
        "            cv=5, n_iter=50,\n",
        "            scoring = 'neg_mean_absolute_error',n_jobs = 2,\n",
        "            verbose = 5, \n",
        "            return_train_score = True,\n",
        "            random_state=42)\n",
        "\n",
        "random_cv_pet = RandomizedSearchCV(estimator=classifier,\n",
        "            param_distributions=hyperparameter_grid,\n",
        "            cv=5, n_iter=50,\n",
        "            scoring = 'neg_mean_absolute_error',n_jobs = 2,\n",
        "            verbose = 5, \n",
        "            return_train_score = True,\n",
        "            random_state=42)\n",
        "\n",
        "random_cv_breed.fit(x_train, y_train_breed)\n",
        "random_cv_pet.fit(x_train, y_train_pet)"
      ],
      "execution_count": null,
      "outputs": [
        {
          "output_type": "stream",
          "text": [
            "Fitting 5 folds for each of 50 candidates, totalling 250 fits\n"
          ],
          "name": "stdout"
        },
        {
          "output_type": "stream",
          "text": [
            "[Parallel(n_jobs=2)]: Using backend LokyBackend with 2 concurrent workers.\n",
            "[Parallel(n_jobs=2)]: Done  14 tasks      | elapsed:   14.3s\n",
            "[Parallel(n_jobs=2)]: Done  68 tasks      | elapsed:  3.8min\n",
            "[Parallel(n_jobs=2)]: Done 158 tasks      | elapsed:  7.7min\n",
            "[Parallel(n_jobs=2)]: Done 250 out of 250 | elapsed: 10.9min finished\n"
          ],
          "name": "stderr"
        },
        {
          "output_type": "stream",
          "text": [
            "Fitting 5 folds for each of 50 candidates, totalling 250 fits\n"
          ],
          "name": "stdout"
        },
        {
          "output_type": "stream",
          "text": [
            "[Parallel(n_jobs=2)]: Using backend LokyBackend with 2 concurrent workers.\n",
            "[Parallel(n_jobs=2)]: Done  14 tasks      | elapsed:   15.2s\n",
            "[Parallel(n_jobs=2)]: Done  68 tasks      | elapsed:  4.7min\n",
            "[Parallel(n_jobs=2)]: Done 158 tasks      | elapsed:  9.5min\n",
            "[Parallel(n_jobs=2)]: Done 250 out of 250 | elapsed: 13.5min finished\n"
          ],
          "name": "stderr"
        },
        {
          "output_type": "execute_result",
          "data": {
            "text/plain": [
              "RandomizedSearchCV(cv=5, error_score=nan,\n",
              "                   estimator=RandomForestClassifier(bootstrap=True,\n",
              "                                                    ccp_alpha=0.0,\n",
              "                                                    class_weight=None,\n",
              "                                                    criterion='gini',\n",
              "                                                    max_depth=None,\n",
              "                                                    max_features='auto',\n",
              "                                                    max_leaf_nodes=None,\n",
              "                                                    max_samples=None,\n",
              "                                                    min_impurity_decrease=0.0,\n",
              "                                                    min_impurity_split=None,\n",
              "                                                    min_samples_leaf=1,\n",
              "                                                    min_samples_split=2,\n",
              "                                                    min_weight_fraction_leaf=0.0,\n",
              "                                                    n_estimators=100,\n",
              "                                                    n_jobs...\n",
              "                   param_distributions={'bootstrap': [True, False],\n",
              "                                        'criterion': ['gini', 'entropy'],\n",
              "                                        'max_depth': [5, 8, 15, 25, 30],\n",
              "                                        'max_features': ['auto', 'sqrt',\n",
              "                                                         'log2'],\n",
              "                                        'min_samples_leaf': [1, 2, 5, 10],\n",
              "                                        'min_samples_split': [2, 5, 10, 15,\n",
              "                                                              100],\n",
              "                                        'n_estimators': [50, 100, 200, 300,\n",
              "                                                         500]},\n",
              "                   pre_dispatch='2*n_jobs', random_state=42, refit=True,\n",
              "                   return_train_score=True, scoring='neg_mean_absolute_error',\n",
              "                   verbose=5)"
            ]
          },
          "metadata": {
            "tags": []
          },
          "execution_count": 120
        }
      ]
    },
    {
      "cell_type": "code",
      "metadata": {
        "id": "d0xffsrsNwI9",
        "colab_type": "code",
        "colab": {
          "base_uri": "https://localhost:8080/",
          "height": 136
        },
        "outputId": "5ab34f82-0b52-4bad-be4a-881dd617d670"
      },
      "source": [
        "random_cv_breed.best_estimator_"
      ],
      "execution_count": null,
      "outputs": [
        {
          "output_type": "execute_result",
          "data": {
            "text/plain": [
              "LGBMClassifier(boosting_type='dart', class_weight=None, colsample_bytree=1.0,\n",
              "               importance_type='split', learning_rate=0.001, max_depth=-1,\n",
              "               min_child_samples=10, min_child_weight=0.0001,\n",
              "               min_split_gain=0.0, n_estimators=700, n_jobs=-1, num_leaves=25,\n",
              "               objective=None, random_state=None, reg_alpha=0.0, reg_lambda=0.0,\n",
              "               silent=True, subsample=1.0, subsample_for_bin=200000,\n",
              "               subsample_freq=0)"
            ]
          },
          "metadata": {
            "tags": []
          },
          "execution_count": 42
        }
      ]
    },
    {
      "cell_type": "code",
      "metadata": {
        "id": "YSzRuSQuN2HT",
        "colab_type": "code",
        "colab": {
          "base_uri": "https://localhost:8080/",
          "height": 119
        },
        "outputId": "77f01f87-631a-4352-fee4-86d4d3e3bb27"
      },
      "source": [
        "random_cv_pet.best_estimator_"
      ],
      "execution_count": null,
      "outputs": [
        {
          "output_type": "execute_result",
          "data": {
            "text/plain": [
              "LGBMClassifier(boosting_type='gbdt', class_weight=None, colsample_bytree=1.0,\n",
              "               importance_type='split', learning_rate=0.1, max_depth=-1,\n",
              "               min_child_samples=10, min_child_weight=0.01, min_split_gain=0.0,\n",
              "               n_estimators=100, n_jobs=-1, num_leaves=31, objective=None,\n",
              "               random_state=None, reg_alpha=0.0, reg_lambda=0.0, silent=True,\n",
              "               subsample=1.0, subsample_for_bin=200000, subsample_freq=0)"
            ]
          },
          "metadata": {
            "tags": []
          },
          "execution_count": 43
        }
      ]
    },
    {
      "cell_type": "code",
      "metadata": {
        "id": "ruYpi3OmOEhS",
        "colab_type": "code",
        "colab": {
          "base_uri": "https://localhost:8080/",
          "height": 119
        },
        "outputId": "78d054d9-03e2-4f93-a9cd-31ab056cd702"
      },
      "source": [
        "from lightgbm import LGBMClassifier\n",
        "model_breed = LGBMClassifier(boosting_type='dart', class_weight=None, colsample_bytree=1.0,\n",
        "               importance_type='split', learning_rate=0.001, max_depth=-1,\n",
        "               min_child_samples=10, min_child_weight=0.0001,\n",
        "               min_split_gain=0.0, n_estimators=700, n_jobs=-1, num_leaves=19,\n",
        "               objective=None, random_state=None, reg_alpha=0.0, reg_lambda=0.0,\n",
        "               silent=True, subsample=1.0, subsample_for_bin=200000,\n",
        "               subsample_freq=0)\n",
        "model_breed.fit(x_train, y_train_breed)\n",
        "\n",
        "model_pet = LGBMClassifier(boosting_type='gbdt', class_weight=None, colsample_bytree=1.0,\n",
        "               importance_type='split', learning_rate=0.1, max_depth=-1,\n",
        "               min_child_samples=10, min_child_weight=0.01, min_split_gain=0.0,\n",
        "               n_estimators=100, n_jobs=-1, num_leaves=31, objective=None,\n",
        "               random_state=None, reg_alpha=0.0, reg_lambda=0.0, silent=True,\n",
        "               subsample=1.0, subsample_for_bin=200000, subsample_freq=0)\n",
        "model_pet.fit(x_train, y_train_pet)"
      ],
      "execution_count": null,
      "outputs": [
        {
          "output_type": "execute_result",
          "data": {
            "text/plain": [
              "LGBMClassifier(boosting_type='gbdt', class_weight=None, colsample_bytree=1.0,\n",
              "               importance_type='split', learning_rate=0.1, max_depth=-1,\n",
              "               min_child_samples=10, min_child_weight=0.01, min_split_gain=0.0,\n",
              "               n_estimators=100, n_jobs=-1, num_leaves=31, objective=None,\n",
              "               random_state=None, reg_alpha=0.0, reg_lambda=0.0, silent=True,\n",
              "               subsample=1.0, subsample_for_bin=200000, subsample_freq=0)"
            ]
          },
          "metadata": {
            "tags": []
          },
          "execution_count": 56
        }
      ]
    },
    {
      "cell_type": "code",
      "metadata": {
        "id": "4VnyJ2gkzqm7",
        "colab_type": "code",
        "colab": {
          "base_uri": "https://localhost:8080/",
          "height": 119
        },
        "outputId": "c098cab3-60e4-44e6-96c1-14a47c416f72"
      },
      "source": [
        "from sklearn.tree import DecisionTreeClassifier\n",
        "model_breed = DecisionTreeClassifier()\n",
        "model_breed.fit(x_train_breed, y_train_breed)\n",
        "\n",
        "model_pet = DecisionTreeClassifier()\n",
        "model_pet.fit(x_train_pet, y_train_pet)"
      ],
      "execution_count": null,
      "outputs": [
        {
          "output_type": "execute_result",
          "data": {
            "text/plain": [
              "DecisionTreeClassifier(ccp_alpha=0.0, class_weight=None, criterion='gini',\n",
              "                       max_depth=None, max_features=None, max_leaf_nodes=None,\n",
              "                       min_impurity_decrease=0.0, min_impurity_split=None,\n",
              "                       min_samples_leaf=1, min_samples_split=2,\n",
              "                       min_weight_fraction_leaf=0.0, presort='deprecated',\n",
              "                       random_state=None, splitter='best')"
            ]
          },
          "metadata": {
            "tags": []
          },
          "execution_count": 247
        }
      ]
    },
    {
      "cell_type": "code",
      "metadata": {
        "id": "XQhWHCkOzG29",
        "colab_type": "code",
        "colab": {
          "base_uri": "https://localhost:8080/",
          "height": 136
        },
        "outputId": "5f7e96dc-fee3-4539-8577-0cfdf998a2c4"
      },
      "source": [
        "from xgboost import XGBClassifier\n",
        "model_breed = XGBClassifier()\n",
        "model_breed.fit(x_train_breed, y_train_breed)\n",
        "\n",
        "model_pet = XGBClassifier()\n",
        "model_pet.fit(x_train_pet, y_train_pet)"
      ],
      "execution_count": null,
      "outputs": [
        {
          "output_type": "execute_result",
          "data": {
            "text/plain": [
              "XGBClassifier(base_score=0.5, booster='gbtree', colsample_bylevel=1,\n",
              "              colsample_bynode=1, colsample_bytree=1, gamma=0,\n",
              "              learning_rate=0.1, max_delta_step=0, max_depth=3,\n",
              "              min_child_weight=1, missing=None, n_estimators=100, n_jobs=1,\n",
              "              nthread=None, objective='multi:softprob', random_state=0,\n",
              "              reg_alpha=0, reg_lambda=1, scale_pos_weight=1, seed=None,\n",
              "              silent=None, subsample=1, verbosity=1)"
            ]
          },
          "metadata": {
            "tags": []
          },
          "execution_count": 243
        }
      ]
    },
    {
      "cell_type": "code",
      "metadata": {
        "id": "j2PPyOYtysv7",
        "colab_type": "code",
        "colab": {}
      },
      "source": [
        "from sklearn.ensemble import RandomForestClassifier\n",
        "model_breed = RandomForestClassifier()\n",
        "model_breed.fit(x_train_breed, y_train_breed)\n",
        "\n",
        "model_pet = RandomForestClassifier()\n",
        "model_pet.fit(x_train_pet, y_train_pet)"
      ],
      "execution_count": null,
      "outputs": []
    },
    {
      "cell_type": "markdown",
      "metadata": {
        "id": "kN4kc81-CBtB",
        "colab_type": "text"
      },
      "source": [
        "when breed is considered for pet prediction in training"
      ]
    },
    {
      "cell_type": "code",
      "metadata": {
        "id": "hqEry5v7DCty",
        "colab_type": "code",
        "colab": {}
      },
      "source": [
        "y_pred_breed.tolist()"
      ],
      "execution_count": null,
      "outputs": []
    },
    {
      "cell_type": "code",
      "metadata": {
        "id": "RWFyaA-0DX70",
        "colab_type": "code",
        "colab": {
          "base_uri": "https://localhost:8080/",
          "height": 34
        },
        "outputId": "44b1acb8-c137-4a69-8e32-a0cf7f2c4965"
      },
      "source": [
        "len(x_train_pet['breed_category'])"
      ],
      "execution_count": null,
      "outputs": [
        {
          "output_type": "execute_result",
          "data": {
            "text/plain": [
              "18834"
            ]
          },
          "metadata": {
            "tags": []
          },
          "execution_count": 48
        }
      ]
    },
    {
      "cell_type": "code",
      "metadata": {
        "id": "0PK1XovNCXk7",
        "colab_type": "code",
        "colab": {}
      },
      "source": [
        "from sklearn.ensemble import RandomForestClassifier\n",
        "model_pet = RandomForestClassifier()\n",
        "model_pet.fit(x_train_pet, y_train_pet)\n",
        "\n",
        "y_pred_pet = model_pet.predict(x_test_pet)\n",
        "x_test_breed['pet_category'] = y_pred_pet.tolist()\n",
        "\n",
        "model_breed = RandomForestClassifier()\n",
        "model_breed.fit(x_train_breed, y_train_breed)\n",
        "\n",
        "y_pred_breed = model_breed.predict(x_test_breed)"
      ],
      "execution_count": null,
      "outputs": []
    },
    {
      "cell_type": "code",
      "metadata": {
        "id": "GvwNMv5dyyUs",
        "colab_type": "code",
        "colab": {}
      },
      "source": [
        "y_pred_breed = model_breed.predict(x_test_breed)\n",
        "y_pred_pet = model_pet.predict(x_test_pet)"
      ],
      "execution_count": null,
      "outputs": []
    },
    {
      "cell_type": "code",
      "metadata": {
        "id": "M_lX4GxEBfPz",
        "colab_type": "code",
        "colab": {}
      },
      "source": [
        "y_pred_breed = model_breed.predict(x_test)\n",
        "y_pred_pet = model_pet.predict(x_test)"
      ],
      "execution_count": null,
      "outputs": []
    },
    {
      "cell_type": "code",
      "metadata": {
        "id": "elgDn1NwCSXH",
        "colab_type": "code",
        "colab": {
          "base_uri": "https://localhost:8080/",
          "height": 34
        },
        "outputId": "05379299-2fcb-4d76-f64a-f97526eaff04"
      },
      "source": [
        "np.unique(y_pred_breed, return_counts=True)"
      ],
      "execution_count": null,
      "outputs": [
        {
          "output_type": "execute_result",
          "data": {
            "text/plain": [
              "(array([0., 1., 2.]), array([4237, 3216,  619]))"
            ]
          },
          "metadata": {
            "tags": []
          },
          "execution_count": 58
        }
      ]
    },
    {
      "cell_type": "code",
      "metadata": {
        "id": "eZzJXA48Bt9g",
        "colab_type": "code",
        "colab": {}
      },
      "source": [
        "pred_breed = pd.DataFrame(y_pred_breed)\n",
        "pred_pet = pd.DataFrame(y_pred_pet)\n",
        "sub_df = pd.read_csv(\"/content/drive/My Drive/Colab Notebooks/data/PetAdoption_HE/test.csv\")\n",
        "datasets = pd.concat([sub_df[['pet_id']], pred_breed, pred_pet], axis=1)\n",
        "datasets.columns = ['pet_id','breed_category','pet_category']\n",
        "datasets.to_csv('/content/my_submission37.csv', index=False)"
      ],
      "execution_count": null,
      "outputs": []
    }
  ]
}